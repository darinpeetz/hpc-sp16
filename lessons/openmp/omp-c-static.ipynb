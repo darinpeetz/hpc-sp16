








<!DOCTYPE html>
<html lang="en">

<head>
  <meta charset="utf-8">
  <title>Jupyter Notebook Viewer</title>
  <meta name="viewport" content="width=device-width, initial-scale=1.0">
  <meta name="description" content="">
  <meta name="author" content="">
  
  <meta name="robots" content="noindex,nofollow">
  

  <!--NEW RELIC Start Perf Measurement-->
  
  <!--NREND-->

  <!-- Le styles -->
  <script type="text/javascript">
//<![CDATA[
try{if (!window.CloudFlare) {var CloudFlare=[{verbose:0,p:0,byc:0,owlid:"cf",bag2:1,mirage2:0,oracle:0,paths:{cloudflare:"/cdn-cgi/nexp/dok3v=1613a3a185/"},atok:"f4bed40e03526a3a7298a2a4d14b890d",petok:"89bf567bc78be2d81be975008756d46272c01ddb-1457711649-1800",zone:"jupyter.org",rocket:"0",apps:{"ga_key":{"ua":"UA-52617120-5","ga_bs":"2"}},sha2test:0}];!function(a,b){a=document.createElement("script"),b=document.getElementsByTagName("script")[0],a.async=!0,a.src="//ajax.cloudflare.com/cdn-cgi/nexp/dok3v=fb690a32f5/cloudflare.min.js",b.parentNode.insertBefore(a,b)}()}}catch(e){};
//]]>
</script>
<link href="/static/build/styles.css" rel="stylesheet">

  <!-- Le HTML5 shim, for IE6-8 support of HTML5 elements -->
  <!--[if lt IE 9]>
    <script src="http://html5shim.googlecode.com/svn/trunk/html5.js"></script>
  <![endif]-->

  <!-- Le fav and touch icons -->
  <link rel="shortcut icon" href="/static/ico/ipynb_icon_16x16.png">
  <link rel="apple-touch-icon-precomposed" sizes="144x144"
        href="/static/ico/apple-touch-icon-144-precomposed.png">
  <link rel="apple-touch-icon-precomposed" sizes="114x114"
        href="/static/ico/apple-touch-icon-114-precomposed.png">
  <link rel="apple-touch-icon-precomposed" sizes="72x72"
        href="/static/ico/apple-touch-icon-72-precomposed.png">
  <link rel="apple-touch-icon-precomposed"
        href="/static/ico/apple-touch-icon-57-precomposed.png">
  
  

  

  
  <meta name="twitter:card" content="summary">
  <meta name="twitter:title" content="Notebook on nbviewer">
  <meta name="twitter:description" content="Check out this Jupyter notebook!">

  
  <meta name="twitter:domain" content="nbviewer.ipython.org">
  <meta name="twitter:image:src" content="http://ipython.org/ipython-doc/dev/_images/ipynb_icon_128x128.png">

  
    <link href="/static/build/notebook.css" rel="stylesheet">
  

  

  
    <script src="https://cdn.mathjax.org/mathjax/latest/MathJax.js?config=TeX-AMS_HTML" type="text/javascript">
    </script>
    <script type="text/javascript">
      init_mathjax = function() {
        if (window.MathJax) {
          // MathJax loaded
          MathJax.Hub.Config({
            TeX: {
              equationNumbers: {
                autoNumber: "AMS",
                useLabelIds: true
              }
            },
            tex2jax: {
              inlineMath: [ ['$','$'], ["\\(","\\)"] ],
              displayMath: [ ['$$','$$'], ["\\[","\\]"] ],
              processEscapes: true,
              processEnvironments: true
            },
            displayAlign: 'center',
            "HTML-CSS": {
              styles: {'.MathJax_Display': {"margin": 0}},
              linebreaks: { automatic: true }
            }
          });
          MathJax.Hub.Queue(["Typeset", MathJax.Hub]);
        }
      }
      init_mathjax();
    </script>
  

<script type="text/javascript">
/* <![CDATA[ */
var _gaq = _gaq || [];
_gaq.push(['_setAccount', 'UA-52617120-5']);
_gaq.push(['_trackPageview']);

(function() {
var ga = document.createElement('script'); ga.type = 'text/javascript'; ga.async = true;
ga.src = ('https:' == document.location.protocol ? 'https://ssl' : 'http://www') + '.google-analytics.com/ga.js';
var s = document.getElementsByTagName('script')[0]; s.parentNode.insertBefore(ga, s);
})();

(function(b){(function(a){"__CF"in b&&"DJS"in b.__CF?b.__CF.DJS.push(a):"addEventListener"in b?b.addEventListener("load",a,!1):b.attachEvent("onload",a)})(function(){"FB"in b&&"Event"in FB&&"subscribe"in FB.Event&&(FB.Event.subscribe("edge.create",function(a){_gaq.push(["_trackSocial","facebook","like",a])}),FB.Event.subscribe("edge.remove",function(a){_gaq.push(["_trackSocial","facebook","unlike",a])}),FB.Event.subscribe("message.send",function(a){_gaq.push(["_trackSocial","facebook","send",a])}));"twttr"in b&&"events"in twttr&&"bind"in twttr.events&&twttr.events.bind("tweet",function(a){if(a){var b;if(a.target&&a.target.nodeName=="IFRAME")a:{if(a=a.target.src){a=a.split("#")[0].match(/[^?=&]+=([^&]*)?/g);b=0;for(var c;c=a[b];++b)if(c.indexOf("url")===0){b=unescape(c.split("=")[1]);break a}}b=void 0}_gaq.push(["_trackSocial","twitter","tweet",b])}})})})(window);
/* ]]> */
</script>
</head>

<body>

  <!-- These are loaded at the top of the body so they are available to
       notebook cells when they are loaded below. -->
  <script src="/static/components/jquery/dist/jquery.min.js"></script>
  <script src="/static/components/requirejs/require.js"></script>
  <script src="/static/components/moment/min/moment.min.js"></script>

<!-- Navbar
================================================== -->
  <nav id="menubar" class="navbar navbar-default navbar-fixed-top" data-spy="affix">
    <div class="container">
      <div class="navbar-header">
        <button type="button" class="navbar-toggle collapsed" data-toggle="collapse" data-target=".navbar-collapse">
          <span class="sr-only">Toggle navigation</span>
          <i class="fa fa-bars"></i>
        </button>
        <a class="navbar-brand" href="/">
          <img src="/static/img/nav_logo.svg" width="159"/>
        </a>
      </div>

      <div class="collapse navbar-collapse">
        <ul class="nav navbar-nav navbar-right">
          <li>
            <a class="active" href="http://jupyter.org">JUPYTER</a>
          </li>
          <li>
    <a href="/faq" title="FAQ" >
      
        <span>FAQ</span>
      
    </a>
  </li>

          
  
    
      
        <li>
    <a href="/format/script/github/maxim-belkin/hpc-fa15/blob/gh-pages/lessons/omp-c.ipynb" title="View as Code" >
      <span class="fa fa- fa-2x menu-icon"></span>
      <span class="menu-text">View as Code</span>
    </a>
  </li>
      
    
  
    
  

  

  
    <li>
    <a href="https://github.com/maxim-belkin/hpc-fa15/blob/gh-pages/lessons/omp-c.ipynb" title="View on GitHub" >
      <span class="fa fa-github fa-2x menu-icon"></span>
      <span class="menu-text">View on GitHub</span>
    </a>
  </li>
  

  <li>
    <a href="https://raw.githubusercontent.com/maxim-belkin/hpc-fa15/gh-pages/lessons/omp-c.ipynb" title="Download Notebook" download>
      <span class="fa fa-download fa-2x menu-icon"></span>
      <span class="menu-text">Download Notebook</span>
    </a>
  </li>

        </ul>
      </div><!-- /.navbar-collapse -->
      
      
    </div>
  </nav>

  <div class="container container-main">
    
  
  <ol class="breadcrumb">
    
      <li>
        <a href="/github/maxim-belkin/hpc-fa15/tree/gh-pages">hpc-fa15</a>
      </li>
    
      <li>
        <a href="/github/maxim-belkin/hpc-fa15/tree/gh-pages/lessons">lessons</a>
      </li>
    
  </ol>
  
  <div id="notebook">
    <div id="notebook-container">
      
<div class="cell border-box-sizing text_cell rendered">
<div class="prompt input_prompt">
</div>
<div class="inner_cell">
<div class="text_cell_render border-box-sizing rendered_html">
<p><a href="http://cse.illinois.edu/"><img src="https://bytebucket.org/davis68/resources/raw/f7c98d2b95e961fae257707e22a58fa1a2c36bec/logos/baseline_cse_wdmk.png?token=be4cc41d4b2afe594f5b1570a3c5aad96a65f0d6" alt=""></a></p>

</div>
</div>
</div>
<div class="cell border-box-sizing text_cell rendered">
<div class="prompt input_prompt">
</div>
<div class="inner_cell">
<div class="text_cell_render border-box-sizing rendered_html">
<h1 id="Threaded-Programming-for-Engineers-(OpenMP)">Threaded Programming for Engineers (OpenMP)<a class="anchor-link" href="#Threaded-Programming-for-Engineers-(OpenMP)">&#182;</a></h1><p><a id='contents'></a></p>
<h2 id="Contents">Contents<a class="anchor-link" href="#Contents">&#182;</a></h2><ul>
<li><a href="#intro">Threaded Programs</a></li>
<li><a href="#hello">Hello World!</a></li>
<li><a href="#numint">Numerical Integration</a></li>
<li><a href="#fib">Recursion (Fibonacci Sequence)</a></li>
<li><a href="#mmult">Vector &amp; Matrix Multiplication</a></li>
<li><a href="#series">Series Formulæ</a></li>
<li><a href="#montecarlo">Monte Carlo</a></li>
<li><a href="#tips">A Few More Tips</a></li>
<li><a href="#vector">Using Vectorization (SIMD) in Practice</a></li>
<li><a href="#assess">Assessing Performance</a></li>
<li><a href="#bestprac">Best Practices for Scientific Parallel Programming</a></li>
<li><a href="#conc">Conclusion</a></li>
<li><a href="#refs">References</a></li>
<li><a href="#credits">Credits</a></li>
</ul>

</div>
</div>
</div>
<div class="cell border-box-sizing text_cell rendered">
<div class="prompt input_prompt">
</div>
<div class="inner_cell">
<div class="text_cell_render border-box-sizing rendered_html">
<p><a id='intro'></a></p>
<h2 id="Threaded-Programs">Threaded Programs<a class="anchor-link" href="#Threaded-Programs">&#182;</a></h2><p><a href="http://www.openmp.org/">OpenMP</a> is an interface for C/C++/Fortran to direct multithreaded, shared-memory parallel execution.  OpenMP allows a group of processors to coördinate work between themselves using the <em>fork–join</em> model of parallelism.  In this model, a <em>master</em> thread (or process) spawns groups of <em>slave</em> threads as appropriate to solve certain calculations.</p>
<p><img src="https://bytebucket.org/davis68/parallel/raw/fc24d274c088ba5087688ef25cf8e724f532319d/lessons/img/fork-join.png?token=8f9936a462a4862f1a2894d28b33ce7aa57e7cb4" alt=""></p>
<p>An example of a parallel addition in this model is shown below.  Note that, in OpenMP terms, separate processes could be spawned to perform each addition—this differs from <em>vectorization</em> in which a single process would perform the operation as a single step across multiple vector elements (<a href="https://stackoverflow.com/questions/10509872/comparison-between-openmp-and-vectorization">ref</a>).  (More on that distinction—and how to exploit both to your advantage—below.)</p>
<p><img src="https://bytebucket.org/davis68/parallel/raw/fc24d274c088ba5087688ef25cf8e724f532319d/lessons/img/SIMD-vector-add.png?token=7d71987d20cfb22695d0444a321a9d9480610c6f" alt=""></p>
<p>The interface for working with OpenMP is reasonably straightforward (in comparison to MPI), as it is implemented entirely with <code>#pragma omp</code>s in C and C++ and <code>!$OMP</code> sentinels in Fortran.  Thus existing serial code can be naïvely parallelized with almost no effort (although this guarantees no improvement in performance without tweaks).</p>

</div>
</div>
</div>
<div class="cell border-box-sizing text_cell rendered">
<div class="prompt input_prompt">
</div>
<div class="inner_cell">
<div class="text_cell_render border-box-sizing rendered_html">
<hr>
<p><a id='hello'></a></p>
<h2 id="Hello-World">Hello World<a class="anchor-link" href="#Hello-World">&#182;</a></h2><p>Let's take a look at a trivial C++ code which uses OpenMP.</p>
<p>As we are using an <a href="ipython.org">IPython</a> notebook interface to unite code and context, simply select each cell and press Shift+Enter to run the following three blocks of code in succession.</p>
<ol>
<li>The first writes the C++ code in it to disk as the <code>openmp.cpp</code>.</li>
<li>The second compiles the C++ code.</li>
<li>The third executes the code in a <code>bash</code> shell and echoes the output back in the notebook.</li>
</ol>

</div>
</div>
</div>
<div class="cell border-box-sizing code_cell rendered">
<div class="input">
<div class="prompt input_prompt">In&nbsp;[&nbsp;]:</div>
<div class="inner_cell">
    <div class="input_area">
<div class=" highlight hl-ipython3"><pre><span></span><span class="o">%%</span><span class="k">file</span> openmp.cpp

#include &lt;iostream&gt;
#include &lt;omp.h&gt;
using namespace std;
 
int main(int argc, char *argv[]) {
    int th_id, nthreads;

    #pragma omp parallel private(th_id) shared(nthreads)
    {
        th_id = omp_get_thread_num();
        
        cout &lt;&lt; &quot;Hello World from thread &quot; &lt;&lt; th_id &lt;&lt; &#39;\n&#39;;
        #pragma omp barrier
        
        #pragma omp single
        cout &lt;&lt; &quot;---&quot; &lt;&lt; endl;
        
        #pragma omp critical
        cout &lt;&lt; &quot;Hello World from thread &quot; &lt;&lt; th_id &lt;&lt; &#39;\n&#39;;
        
        #pragma omp barrier

        cout &lt;&lt; &quot;There are &quot; &lt;&lt; omp_get_max_threads() &lt;&lt; &quot; threads&quot; &lt;&lt; &#39;\n&#39;;
    }

    return 0;
}
</pre></div>

</div>
</div>
</div>

</div>
<div class="cell border-box-sizing code_cell rendered">
<div class="input">
<div class="prompt input_prompt">In&nbsp;[&nbsp;]:</div>
<div class="inner_cell">
    <div class="input_area">
<div class=" highlight hl-ipython3"><pre><span></span><span class="o">!</span>g++ -Wall -fopenmp -O2 -pedantic  openmp.cpp -o openmp
</pre></div>

</div>
</div>
</div>

</div>
<div class="cell border-box-sizing code_cell rendered">
<div class="input">
<div class="prompt input_prompt">In&nbsp;[&nbsp;]:</div>
<div class="inner_cell">
    <div class="input_area">
<div class=" highlight hl-ipython3"><pre><span></span><span class="o">!</span>./openmp
</pre></div>

</div>
</div>
</div>

</div>
<div class="cell border-box-sizing text_cell rendered">
<div class="prompt input_prompt">
</div>
<div class="inner_cell">
<div class="text_cell_render border-box-sizing rendered_html">
<p>There's actually several things going on there, so let's unpack the output first and then the code body to get a taste of OpenMP.</p>

</div>
</div>
</div>
<div class="cell border-box-sizing code_cell rendered">
<div class="input">
<div class="prompt input_prompt">In&nbsp;[&nbsp;]:</div>
<div class="inner_cell">
    <div class="input_area">
<div class=" highlight hl-ipython3"><pre><span></span><span class="c1"># Timing code in IPython</span>
<span class="o">%</span><span class="k">timeit</span> !./openmp
</pre></div>

</div>
</div>
</div>

</div>
<div class="cell border-box-sizing text_cell rendered">
<div class="prompt input_prompt">
</div>
<div class="inner_cell">
<div class="text_cell_render border-box-sizing rendered_html">
<h3 id="OpenMP-#pragmas">OpenMP <code>#pragma</code>s<a class="anchor-link" href="#OpenMP-#pragmas">&#182;</a></h3><p>What would happen if we forgot the <code>-fopenmp</code> flag?  Well, <code>#pragma</code>s are preprocessor commands to the compiler to invoke certain features, and thus those features (in this case OpenMP) wouldn't be invoked.  In some cases, like the "Hello World" example, this <em>may</em> make no difference, but that's hardly the general case.  Hey, let's just try it:</p>

</div>
</div>
</div>
<div class="cell border-box-sizing code_cell rendered">
<div class="input">
<div class="prompt input_prompt">In&nbsp;[&nbsp;]:</div>
<div class="inner_cell">
    <div class="input_area">
<div class=" highlight hl-ipython3"><pre><span></span><span class="o">!</span>g++ -Wall -O2 -pedantic  openmp.cpp -o openmp_nopragma
</pre></div>

</div>
</div>
</div>

</div>
<div class="cell border-box-sizing text_cell rendered">
<div class="prompt input_prompt">
</div>
<div class="inner_cell">
<div class="text_cell_render border-box-sizing rendered_html">
<hr>
<p><a id='numint'></a></p>
<h2 id="Numerical-Integration">Numerical Integration<a class="anchor-link" href="#Numerical-Integration">&#182;</a></h2><p>Let's do something more interesting, assuming that you find writing parallel numerical methods interesting :).  Consider the following decomposition of the composite Simpson's rule for integral evaluation.</p>
$$I = \int_{a}^{b} \textrm{d}x\, f(x)$$$$
T[f] = \Delta x \left(
\frac{1}{2} f_{\textrm{0}} + \frac{1}{2} f_{n} + \sum_{j=1}^{n-1} f_{j}
\right)
\approx
I
$$
</div>
</div>
</div>
<div class="cell border-box-sizing text_cell rendered">
<div class="prompt input_prompt">
</div>
<div class="inner_cell">
<div class="text_cell_render border-box-sizing rendered_html">
<p>Consider the integral
$$
\int_{\pi}^{5\pi/2}
\textrm{d}x\,
\frac{\cos(x)}{2 + \cos(x)}
$$
which is depicted below.</p>
<p><img src="https://bytebucket.org/davis68/parallel/raw/fc24d274c088ba5087688ef25cf8e724f532319d/lessons/img/int-cosby2.png?token=91e032a5d2586d8a80d37c03adbe5a5e5072f20a" alt=""></p>

</div>
</div>
</div>
<div class="cell border-box-sizing text_cell rendered">
<div class="prompt input_prompt">
</div>
<div class="inner_cell">
<div class="text_cell_render border-box-sizing rendered_html">
<p>First, let's look at a serial implementation of the trapezoid rule in C.</p>

</div>
</div>
</div>
<div class="cell border-box-sizing code_cell rendered">
<div class="input">
<div class="prompt input_prompt">In&nbsp;[&nbsp;]:</div>
<div class="inner_cell">
    <div class="input_area">
<div class=" highlight hl-ipython3"><pre><span></span><span class="o">%%</span><span class="k">file</span> int_trap_serial.cpp
#include &lt;iostream&gt;
#include &lt;cmath&gt;
using namespace std;

#define PI 3.14159265
#define N 1000

double integrand(double x) {
    return cos(x)/(2+cos(x));
}

int main(int argc, char** argv) {
    double result = 0,
           x;
    double a = PI,
           b = 5*PI/2;
    double dx = (b - a) / N;
    
    for (int j = 1; j &lt; N; j++) {
        x = dx * j;
        result += integrand(x);
    }
    // Add endpoint calculations.
    result += 1/2 * integrand(a);
    result += 1/2 * integrand(b);
    // Multiply by prefactor
    result *= dx;
    
    cout &lt;&lt; &quot;The calculated value is &quot; &lt;&lt; result &lt;&lt; &quot;.\n&quot;;
    return 0;
}
</pre></div>

</div>
</div>
</div>

</div>
<div class="cell border-box-sizing code_cell rendered">
<div class="input">
<div class="prompt input_prompt">In&nbsp;[&nbsp;]:</div>
<div class="inner_cell">
    <div class="input_area">
<div class=" highlight hl-ipython3"><pre><span></span><span class="o">!</span>g++ -Wall -fopenmp -O2 -pedantic  int_trap_serial.cpp -o int_trap_serial
</pre></div>

</div>
</div>
</div>

</div>
<div class="cell border-box-sizing code_cell rendered">
<div class="input">
<div class="prompt input_prompt">In&nbsp;[&nbsp;]:</div>
<div class="inner_cell">
    <div class="input_area">
<div class=" highlight hl-ipython3"><pre><span></span><span class="o">!</span>./int_trap_serial
</pre></div>

</div>
</div>
</div>

</div>
<div class="cell border-box-sizing text_cell rendered">
<div class="prompt input_prompt">
</div>
<div class="inner_cell">
<div class="text_cell_render border-box-sizing rendered_html">
<p>Now, let's convert the same code into OpenMP parallel code.</p>

</div>
</div>
</div>
<div class="cell border-box-sizing code_cell rendered">
<div class="input">
<div class="prompt input_prompt">In&nbsp;[&nbsp;]:</div>
<div class="inner_cell">
    <div class="input_area">
<div class=" highlight hl-ipython3"><pre><span></span><span class="o">%%</span><span class="k">file</span> int_trap_omp.cpp

#include &lt;iostream&gt;
#include &lt;cmath&gt;
using namespace std;
#include &lt;omp.h&gt;

#define PI 3.14159265
#define N 1000

double integrand(double x) {
    return cos(x)/(2+cos(x));
}

int main(int argc, char** argv) {
    double result = 0,
           x;
    double a = PI,
           b = 5*PI/2;
    double dx = (b - a) / N;
    
    int j;
    #pragma omp parallel for private(x) reduction(+:result) schedule(static,1)
    for (j = 1; j &lt; N; j++) {
        x = dx * j;
        result += integrand(x);
    }
    cout &lt;&lt; &quot;Using &quot; &lt;&lt; omp_get_max_threads() &lt;&lt; &quot; threads, &quot;;
    
    // Add endpoint calculations.
    result += 1/2 * integrand(a);
    result += 1/2 * integrand(b);
    // Multiply by prefactor
    result *= dx;
    
    cout &lt;&lt; &quot;the calculated value is &quot; &lt;&lt; result &lt;&lt; &quot;.\n&quot;;
    return 0;
} 
</pre></div>

</div>
</div>
</div>

</div>
<div class="cell border-box-sizing code_cell rendered">
<div class="input">
<div class="prompt input_prompt">In&nbsp;[&nbsp;]:</div>
<div class="inner_cell">
    <div class="input_area">
<div class=" highlight hl-ipython3"><pre><span></span><span class="o">!</span>g++ -Wall -fopenmp -O2 -pedantic int_trap_omp.cpp -o int_trap_omp
</pre></div>

</div>
</div>
</div>

</div>
<div class="cell border-box-sizing code_cell rendered">
<div class="input">
<div class="prompt input_prompt">In&nbsp;[&nbsp;]:</div>
<div class="inner_cell">
    <div class="input_area">
<div class=" highlight hl-ipython3"><pre><span></span><span class="o">!</span>./int_trap_omp
</pre></div>

</div>
</div>
</div>

</div>
<div class="cell border-box-sizing text_cell rendered">
<div class="prompt input_prompt">
</div>
<div class="inner_cell">
<div class="text_cell_render border-box-sizing rendered_html">
<p>In this case, with every iterative calculation being essentially independent of the others, we have to add very little.  Specifically, we added this compound statement.  Let's deconstruct it a bit to see what OpenMP is doing.</p>

<pre><code>#pragma omp parallel for private(x) reduction(+:result) schedule(static,1)

</code></pre>
<ul>
<li><a href="https://gcc.gnu.org/onlinedocs/cpp/Pragmas.html"><code>#pragma</code></a> instructs the compiler that a special category of compiler-specific instructions follows.  Thus <code>#pragma omp</code> invokes compilation with OpenMP support for the following code section.</li>
<li><code>parallel</code> begins a block of—you guessed it—parallel code.  It forms a team of parallel threads which begin executing the subsequent code block in parallel.</li>
<li><code>for</code> signals that the following block is a <code>for</code> loop.  The number of iterations must be known at run time (<em>i.e.</em>, you can't alter <code>N</code> or skip some iterations.  They will be partitioned among the threads as defined by <code>schedule</code>.</li>
<li><code>private</code> indicates a list of variables (previously declared) which are considered to be private to each thread—that is, every thread has its own copy of the variable.</li>
<li><code>reduction</code> is an operation which takes a group of values and combines them by some well-defined operation like addition or multiplication.  <code>result</code> is the <code>double</code> which will contain the answer.</li>
<li><code>schedule</code> refers to how iterations are to be divided between threads.  <code>static,1</code> means that the iterations are divided into groups of size <code>1</code> and assigned to threads in round-robin fashion.</li>
</ul>

</div>
</div>
</div>
<div class="cell border-box-sizing text_cell rendered">
<div class="prompt input_prompt">
</div>
<div class="inner_cell">
<div class="text_cell_render border-box-sizing rendered_html">
<h3 id="Exercise">Exercise<a class="anchor-link" href="#Exercise">&#182;</a></h3><ul>
<li>Write a Simpson's rule integrator which solves the integral
$$
\int_{0}^{2}
\textrm{d}x\,
\frac{\sinh{x}}{\cosh{x}} - 1
\textrm{.}
$$</li>
</ul>
<p>Recall that Simpson's rule is
$$
S[f] = \Delta x \left(
\frac{1}{2} f_{\textrm{0}} + \frac{1}{2} f_{n} + \sum_{j=1}^{n-1} f_{j}
\right)
\approx
I
\text{.}
$$</p>
<p><img src="https://bytebucket.org/davis68/parallel/raw/fc24d274c088ba5087688ef25cf8e724f532319d/lessons/img/int-sinhbycosh.png?token=95b968dc849b4128087c5cc1dadeb1f45e035c14" alt=""></p>
<p>A skeleton code for this is provided below.</p>

</div>
</div>
</div>
<div class="cell border-box-sizing code_cell rendered">
<div class="input">
<div class="prompt input_prompt">In&nbsp;[&nbsp;]:</div>
<div class="inner_cell">
    <div class="input_area">
<div class=" highlight hl-ipython3"><pre><span></span><span class="o">%%</span><span class="k">file</span> int_simp_omp.cpp

#include &lt;iostream&gt;
#include &lt;cmath&gt;
using namespace std;
#include &lt;omp.h&gt;

#define PI 3.14159265
#define N 1000

double integrand(double x) {
    double value;
    // TODO
    return value;
}

int main(int argc, char** argv) {
    double result = 0,
           x;
    double a = 0,
           b = 2;
    double dx = (b - a) / N;
    
    int j;
    #pragma omp parallel for private(x) reduction(+:result) schedule(static,1)
    for (j = 1; j &lt; N; j++) {
        //TODO
    }
    cout &lt;&lt; &quot;Using &quot; &lt;&lt; omp_get_max_threads() &lt;&lt; &quot; threads, &quot;;
    
    // Add endpoint calculations.
    // TODO
    // Multiply by prefactor
    // TODO
    
    cout &lt;&lt; &quot;the calculated value is &quot; &lt;&lt; result &lt;&lt; &quot;.\n&quot;;
    return 0;
} 
</pre></div>

</div>
</div>
</div>

</div>
<div class="cell border-box-sizing code_cell rendered">
<div class="input">
<div class="prompt input_prompt">In&nbsp;[&nbsp;]:</div>
<div class="inner_cell">
    <div class="input_area">
<div class=" highlight hl-ipython3"><pre><span></span><span class="o">!</span>/usr/local/bin/g++-4.8 -Wall -fopenmp -O2 -std<span class="o">=</span>c++11 -pedantic  int_simp_omp.cpp -o int_simp_omp
</pre></div>

</div>
</div>
</div>

</div>
<div class="cell border-box-sizing code_cell rendered">
<div class="input">
<div class="prompt input_prompt">In&nbsp;[&nbsp;]:</div>
<div class="inner_cell">
    <div class="input_area">
<div class=" highlight hl-ipython3"><pre><span></span><span class="o">!</span>./int_simp_omp
</pre></div>

</div>
</div>
</div>

</div>
<div class="cell border-box-sizing text_cell rendered">
<div class="prompt input_prompt">
</div>
<div class="inner_cell">
<div class="text_cell_render border-box-sizing rendered_html">
<hr>
<p><a id='fib'></a></p>
<h2 id="Recursion-(Fibonacci-Sequence)">Recursion (Fibonacci Sequence)<a class="anchor-link" href="#Recursion-(Fibonacci-Sequence)">&#182;</a></h2><p>Next, let's examine a recursive code written in OpenMP to see a different kind of internal structure.  (This is a purely didactic code:  there are much better algorithms to calculate the Fibonacci sequence than a recursive algorithm, much less a parallel one.)</p>

</div>
</div>
</div>
<div class="cell border-box-sizing code_cell rendered">
<div class="input">
<div class="prompt input_prompt">In&nbsp;[37]:</div>
<div class="inner_cell">
    <div class="input_area">
<div class=" highlight hl-ipython3"><pre><span></span><span class="o">%%</span><span class="k">file</span> fib_serial.cpp

#include &lt;iostream&gt;
#include &lt;cmath&gt;
using namespace std;

long fib(int n) {
    if (n &lt; 2) return n;
    else {
        long x, y;
        x = fib(n-1);
        y = fib(n-2);
        return x + y;
    }
}

int main(int argc, char** argv) {
    int    n = atoi(argv[1]); // Note no error checking here.
    double F = fib(n);
    cout &lt;&lt; &quot;The &quot; &lt;&lt; n &lt;&lt; &quot;th Fibonacci number is &quot; &lt;&lt; F &lt;&lt; &quot;.\n&quot;;
    return 0;
}
</pre></div>

</div>
</div>
</div>

<div class="output_wrapper">
<div class="output">


<div class="output_area"><div class="prompt"></div>
<div class="output_subarea output_stream output_stdout output_text">
<pre>Overwriting fib_serial.cpp
</pre>
</div>
</div>

</div>
</div>

</div>
<div class="cell border-box-sizing code_cell rendered">
<div class="input">
<div class="prompt input_prompt">In&nbsp;[38]:</div>
<div class="inner_cell">
    <div class="input_area">
<div class=" highlight hl-ipython3"><pre><span></span><span class="o">!</span>/usr/local/bin/g++-4.8 -Wall -fopenmp -O2 -std<span class="o">=</span>c++11 -pedantic fib_serial.cpp -o fib_serial
</pre></div>

</div>
</div>
</div>

</div>
<div class="cell border-box-sizing code_cell rendered">
<div class="input">
<div class="prompt input_prompt">In&nbsp;[39]:</div>
<div class="inner_cell">
    <div class="input_area">
<div class=" highlight hl-ipython3"><pre><span></span><span class="o">!</span>./fib_serial <span class="m">18</span>
<span class="c1"># Don&#39;t go higher than 40.</span>
</pre></div>

</div>
</div>
</div>

<div class="output_wrapper">
<div class="output">


<div class="output_area"><div class="prompt"></div>
<div class="output_subarea output_stream output_stdout output_text">
<pre>The 18th Fibonacci number is 2584.
</pre>
</div>
</div>

</div>
</div>

</div>
<div class="cell border-box-sizing code_cell rendered">
<div class="input">
<div class="prompt input_prompt">In&nbsp;[42]:</div>
<div class="inner_cell">
    <div class="input_area">
<div class=" highlight hl-ipython3"><pre><span></span><span class="o">%%</span><span class="k">file</span> fib_omp.cpp

#include &lt;iostream&gt;
#include &lt;cmath&gt;
using namespace std;
#include &lt;omp.h&gt;
#include &lt;cstdlib&gt;

long fib(int n) {
    if (n &lt; 2)
        return n;
    else {
        long x, y;
        #pragma omp task shared(x)
        x=fib(n-1);
        #pragma omp task shared(y)
        y=fib(n-2);
        #pragma omp taskwait
        return x+y;
    }
}

int main(int argc, char** argv) {
    int    n = atoi(argv[1]); // Note no error checking here.
    double F;
    #pragma omp parallel
    F = fib(n);
    cout &lt;&lt; &quot;The &quot; &lt;&lt; n &lt;&lt; &quot;th Fibonacci number is &quot; &lt;&lt; F &lt;&lt; &quot;.\n&quot;;
    return 0;
}
</pre></div>

</div>
</div>
</div>

<div class="output_wrapper">
<div class="output">


<div class="output_area"><div class="prompt"></div>
<div class="output_subarea output_stream output_stdout output_text">
<pre>Overwriting fib_omp.cpp
</pre>
</div>
</div>

</div>
</div>

</div>
<div class="cell border-box-sizing code_cell rendered">
<div class="input">
<div class="prompt input_prompt">In&nbsp;[43]:</div>
<div class="inner_cell">
    <div class="input_area">
<div class=" highlight hl-ipython3"><pre><span></span><span class="o">!</span>g++ -Wall -fopenmp -O2 -pedantic  fib_omp.cpp -o fib_omp
</pre></div>

</div>
</div>
</div>

</div>
<div class="cell border-box-sizing code_cell rendered">
<div class="input">
<div class="prompt input_prompt">In&nbsp;[45]:</div>
<div class="inner_cell">
    <div class="input_area">
<div class=" highlight hl-ipython3"><pre><span></span><span class="o">!</span>./fib_omp <span class="m">18</span>
<span class="c1"># Don&#39;t go higher than 40.</span>
</pre></div>

</div>
</div>
</div>

<div class="output_wrapper">
<div class="output">


<div class="output_area"><div class="prompt"></div>
<div class="output_subarea output_stream output_stdout output_text">
<pre>The 18th Fibonacci number is 2584.
</pre>
</div>
</div>

</div>
</div>

</div>
<div class="cell border-box-sizing text_cell rendered">
<div class="prompt input_prompt">
</div>
<div class="inner_cell">
<div class="text_cell_render border-box-sizing rendered_html">
<p>(As an aside, this code works fine without OpenMP.)</p>

</div>
</div>
</div>
<div class="cell border-box-sizing code_cell rendered">
<div class="input">
<div class="prompt input_prompt">In&nbsp;[&nbsp;]:</div>
<div class="inner_cell">
    <div class="input_area">
<div class=" highlight hl-ipython3"><pre><span></span><span class="o">!</span>g++ -Wall -O2 -pedantic  fib_omp.cpp -o fib_nomp
<span class="o">!</span>./fib_nomp <span class="m">8</span>
</pre></div>

</div>
</div>
</div>

</div>
<div class="cell border-box-sizing code_cell rendered">
<div class="input">
<div class="prompt input_prompt">In&nbsp;[&nbsp;]:</div>
<div class="inner_cell">
    <div class="input_area">
<div class=" highlight hl-ipython3"><pre><span></span><span class="o">%</span><span class="k">timeit</span> !./fib_serial 18
<span class="o">%</span><span class="k">timeit</span> !./fib_omp 18
</pre></div>

</div>
</div>
</div>

</div>
<div class="cell border-box-sizing text_cell rendered">
<div class="prompt input_prompt">
</div>
<div class="inner_cell">
<div class="text_cell_render border-box-sizing rendered_html">
<p>In this case, we run the <code>fib</code> method inside of a <code>omp parallel</code> block.</p>
<p>This code forks new processes as children of the main (master) process to progressively solve the problem.  The total number of threads is still <code>OMP_MAX_THREADS</code>, though, so new processes spawned will get remapped back to the original processors.</p>
<p>As mentioned, this is not a good algorithm, nor is it more efficient in parallel.  It's merely a demonstration of a principle.</p>

</div>
</div>
</div>
<div class="cell border-box-sizing text_cell rendered">
<div class="prompt input_prompt">
</div>
<div class="inner_cell">
<div class="text_cell_render border-box-sizing rendered_html">
<hr>
<p><a id='mmult'></a></p>
<h2 id="Vector-&amp;-Matrix-Multiplication">Vector &amp; Matrix Multiplication<a class="anchor-link" href="#Vector-&amp;-Matrix-Multiplication">&#182;</a></h2><p>An extremely common set of operations in scientific computing codes is vector–vector, vector–matrix, and matrix–matrix addition and multiplication.  (This says more about the way we do mathematical physics and what is straightforward to do on a computer than it does about the way the world works.)</p>
<p>Let's examine a simple vector–vector addition first, then look at some other cases.  In this case, we will actually use the SIMD model shown at first, which simply lets each thread perform its own addition.</p>
<p><img src="https://bytebucket.org/davis68/parallel/raw/fc24d274c088ba5087688ef25cf8e724f532319d/lessons/img/SIMD-vector-add.png?token=7d71987d20cfb22695d0444a321a9d9480610c6f" alt=""></p>

</div>
</div>
</div>
<div class="cell border-box-sizing code_cell rendered">
<div class="input">
<div class="prompt input_prompt">In&nbsp;[&nbsp;]:</div>
<div class="inner_cell">
    <div class="input_area">
<div class=" highlight hl-ipython3"><pre><span></span><span class="o">%%</span><span class="k">file</span> vadd.cpp
#include &lt;iostream&gt;
#include &lt;cmath&gt;
#include &lt;vector&gt;
using namespace std;
#include &lt;omp.h&gt;

#define N 16

int main(int argc, char** argv) {
    vector&lt;double&gt; a(N);
    vector&lt;double&gt; b(N);
    vector&lt;double&gt; c(N);
    
    // Initialize in parallel.
    # pragma omp parallel for
    for (int i = 0; i &lt; a.size(); i++) {
        a[i] = i;
        b[i] = 2*i;
    }
    
    // Add in parallel.
    # pragma omp parallel for
    for (int i = 0; i &lt; a.size(); i++) {
        c[i] = a[i] + b[i];
    }
    
    // Output result of calculation.
    for (int i = 0; i &lt; a.size(); i++) {
        cout &lt;&lt; a[i] &lt;&lt; &quot; + &quot; &lt;&lt; b[i] &lt;&lt; &quot;\t= &quot; &lt;&lt; c[i] &lt;&lt; endl;
    }
}
</pre></div>

</div>
</div>
</div>

</div>
<div class="cell border-box-sizing code_cell rendered">
<div class="input">
<div class="prompt input_prompt">In&nbsp;[&nbsp;]:</div>
<div class="inner_cell">
    <div class="input_area">
<div class=" highlight hl-ipython3"><pre><span></span><span class="o">!</span>g++ -Wall -fopenmp -O2 -pedantic  vadd.cpp -o vadd
</pre></div>

</div>
</div>
</div>

</div>
<div class="cell border-box-sizing code_cell rendered">
<div class="input">
<div class="prompt input_prompt">In&nbsp;[&nbsp;]:</div>
<div class="inner_cell">
    <div class="input_area">
<div class=" highlight hl-ipython3"><pre><span></span><span class="o">!</span>./vadd
</pre></div>

</div>
</div>
</div>

</div>
<div class="cell border-box-sizing text_cell rendered">
<div class="prompt input_prompt">
</div>
<div class="inner_cell">
<div class="text_cell_render border-box-sizing rendered_html">
<h3 id="Exercise">Exercise<a class="anchor-link" href="#Exercise">&#182;</a></h3><ul>
<li>Modify the program <code>vadd.cpp</code> to so each thread has its own copy of a single variable <code>i</code> declared <em>before</em> the <code>#pragma omp</code> (hint:  use <code>private</code>) and use <code>dynamic</code> scheduling.  (You can copy it into the code block below to preserve a working example above.)</li>
</ul>

</div>
</div>
</div>
<div class="cell border-box-sizing code_cell rendered">
<div class="input">
<div class="prompt input_prompt">In&nbsp;[&nbsp;]:</div>
<div class="inner_cell">
    <div class="input_area">
<div class=" highlight hl-ipython3"><pre><span></span> 
</pre></div>

</div>
</div>
</div>

</div>
<div class="cell border-box-sizing code_cell rendered">
<div class="input">
<div class="prompt input_prompt">In&nbsp;[&nbsp;]:</div>
<div class="inner_cell">
    <div class="input_area">
<div class=" highlight hl-ipython3"><pre><span></span><span class="o">!</span>g++ -Wall -fopenmp -O2 -pedantic  vadd.cpp -o vadd
</pre></div>

</div>
</div>
</div>

</div>
<div class="cell border-box-sizing code_cell rendered">
<div class="input">
<div class="prompt input_prompt">In&nbsp;[&nbsp;]:</div>
<div class="inner_cell">
    <div class="input_area">
<div class=" highlight hl-ipython3"><pre><span></span><span class="o">!</span>./vadd
</pre></div>

</div>
</div>
</div>

</div>
<div class="cell border-box-sizing text_cell rendered">
<div class="prompt input_prompt">
</div>
<div class="inner_cell">
<div class="text_cell_render border-box-sizing rendered_html">
<h3 id="Exercise">Exercise<a class="anchor-link" href="#Exercise">&#182;</a></h3><ul>
<li>Write a vector–vector multiplication code in C (no STL but just C-style <code>double</code> arrays) using OpenMP.</li>
</ul>

</div>
</div>
</div>
<div class="cell border-box-sizing code_cell rendered">
<div class="input">
<div class="prompt input_prompt">In&nbsp;[&nbsp;]:</div>
<div class="inner_cell">
    <div class="input_area">
<div class=" highlight hl-ipython3"><pre><span></span><span class="o">%%</span><span class="k">file</span> vmult.c
#include &lt;stdio.h&gt;
#include &lt;math.h&gt;
#include &lt;omp.h&gt;

#define N 16

int main(int argc, char** argv) {
    double a[N][N];
    double b[N][N];
    double c[N][N];
    
    // your code here
}
</pre></div>

</div>
</div>
</div>

</div>
<div class="cell border-box-sizing code_cell rendered">
<div class="input">
<div class="prompt input_prompt">In&nbsp;[&nbsp;]:</div>
<div class="inner_cell">
    <div class="input_area">
<div class=" highlight hl-ipython3"><pre><span></span><span class="o">!</span>g++ -Wall -fopenmp -O2 -pedantic  vmult.c -o vmult
</pre></div>

</div>
</div>
</div>

</div>
<div class="cell border-box-sizing code_cell rendered">
<div class="input">
<div class="prompt input_prompt">In&nbsp;[&nbsp;]:</div>
<div class="inner_cell">
    <div class="input_area">
<div class=" highlight hl-ipython3"><pre><span></span><span class="o">!</span>./vmult
</pre></div>

</div>
</div>
</div>

</div>
<div class="cell border-box-sizing text_cell rendered">
<div class="prompt input_prompt">
</div>
<div class="inner_cell">
<div class="text_cell_render border-box-sizing rendered_html">
<h3 id="Counterexample">Counterexample<a class="anchor-link" href="#Counterexample">&#182;</a></h3><p>Ultimately, the reason we can get away with working inside of an STL container is that we don't need threads to write to the same memory location, nor do we reallocate memory.  (<a href="https://stackoverflow.com/questions/9269097/openmp-and-stl-vector">ref</a>)  The following code, in contrast, will fail because the behavior of <code>push_back</code> requires a consistent memory location, violated by several threads competing for the same allocation.</p>

</div>
</div>
</div>
<div class="cell border-box-sizing code_cell rendered">
<div class="input">
<div class="prompt input_prompt">In&nbsp;[&nbsp;]:</div>
<div class="inner_cell">
    <div class="input_area">
<div class=" highlight hl-ipython3"><pre><span></span><span class="o">%%</span><span class="k">file</span> vinit.cpp

#include &lt;vector&gt;
using namespace std;
#include &lt;omp.h&gt;

int main(int argc, char** argv) {
    vector&lt;double&gt; a(0);
    
    // Initialize a vector in parallel by adding new elements to it.
    # pragma omp parallel for
    for (int i = 0; i &lt; 12; i++) {
        a.push_back(i);
    }
}
</pre></div>

</div>
</div>
</div>

</div>
<div class="cell border-box-sizing code_cell rendered">
<div class="input">
<div class="prompt input_prompt">In&nbsp;[&nbsp;]:</div>
<div class="inner_cell">
    <div class="input_area">
<div class=" highlight hl-ipython3"><pre><span></span><span class="o">!</span>g++ -Wall -fopenmp -O2 -pedantic  vinit.cpp -o vinit
</pre></div>

</div>
</div>
</div>

</div>
<div class="cell border-box-sizing code_cell rendered">
<div class="input">
<div class="prompt input_prompt">In&nbsp;[&nbsp;]:</div>
<div class="inner_cell">
    <div class="input_area">
<div class=" highlight hl-ipython3"><pre><span></span><span class="o">!</span>./vinit
</pre></div>

</div>
</div>
</div>

</div>
<div class="cell border-box-sizing text_cell rendered">
<div class="prompt input_prompt">
</div>
<div class="inner_cell">
<div class="text_cell_render border-box-sizing rendered_html">
<h3 id="Matrix&#8211;Matrix-Operations">Matrix&#8211;Matrix Operations<a class="anchor-link" href="#Matrix&#8211;Matrix-Operations">&#182;</a></h3><p>Matrix–matrix operations are more involved since they often involve <em>blocking</em> or <em>chunking</em>, which separates a large dense matrix into several smaller square pieces and solves them separately (with dependencies, of course).  The following C code illustrates this (original by Blaise Barney, LLNL, <a href="https://computing.llnl.gov/tutorials/openMP/samples/C/omp_mm.c">src</a>).</p>

</div>
</div>
</div>
<div class="cell border-box-sizing code_cell rendered">
<div class="input">
<div class="prompt input_prompt">In&nbsp;[&nbsp;]:</div>
<div class="inner_cell">
    <div class="input_area">
<div class=" highlight hl-ipython3"><pre><span></span><span class="o">%%</span><span class="k">file</span> mmult-block.c
//  Modified from an original example by Blaise Barney for LLNL.
//  https://computing.llnl.gov/tutorials/openMP/samples/C/omp_mm.c
#include &lt;stdio.h&gt;
#include &lt;stdlib.h&gt;
#include &lt;omp.h&gt;

#define NRA 62                 /* number of rows in matrix A */
#define NCA 15                 /* number of columns in matrix A */
#define NCB 7                  /* number of columns in matrix B */

int main (int argc, char *argv[]) {
    int tid, nthreads, i, j, k, chunk;
    double a[NRA][NCA],    /* matrix A to be multiplied */
           b[NCA][NCB],    /* matrix B to be multiplied */
           c[NRA][NCB];    /* result matrix C */
    
    chunk = 10;                    /* set loop iteration chunk size */
    
    #pragma omp parallel shared(a, b, c, nthreads, chunk) private(tid, i, j, k)
    {
        tid = omp_get_thread_num();
        if (tid == 0) {
            nthreads = omp_get_num_threads();
            printf(&quot;Starting matrix multiple example with %d threads\n&quot;, nthreads);
        }
        /*** Initialize matrices ***/
        #pragma omp for schedule (static, chunk) 
        for (i = 0; i &lt; NRA; i++)
            for (j = 0; j &lt; NCA; j++)
                a[i][j] = i + j;
        #pragma omp for schedule (static, chunk)
        for (i = 0; i &lt; NCA; i++)
            for (j = 0; j &lt; NCB; j++)
                b[i][j] = i * j;
        #pragma omp for schedule (static, chunk)
        for (i = 0; i &lt; NRA; i++)
            for (j = 0; j &lt; NCB; j++)
                c[i][j] = 0;
        
        /*** Do matrix multiply sharing iterations on outer loop ***/
        /*** Display who does which iterations for demonstration purposes ***/
        printf(&quot;Thread %d starting matrix multiply...\n&quot;,tid);
        #pragma omp for schedule (static, chunk)
            for (i = 0; i &lt; NRA; i++) {
                printf(&quot;Thread=%d did row=%d\n&quot;,tid,i);
                for (j = 0; j &lt; NCB; j++)       
                    for (k = 0; k &lt; NCA; k++)
                        c[i][j] += a[i][k] * b[k][j];
            }
    } /*** end parallel section ***/
    
    printf(&quot;\nFirst Matrix:\n&quot;);
    for (i=0; i&lt;NRA; i++) {
        for (j=0; j&lt;NCA; j++)
            printf(&quot;%6.2f  &quot;, a[i][j]);
        printf(&quot;\n&quot;); 
    }
    printf(&quot;\nSecond Matrix:\n&quot;);
    for (i=0; i&lt;NCA; i++) {
        for (j=0; j&lt;NCB; j++)
            printf(&quot;%6.2f  &quot;, b[i][j]);
        printf(&quot;\n&quot;); 
    }
    
    printf(&quot;\nResult Matrix:\n&quot;);
    for (i=0; i&lt;NRA; i++) {
        for (j=0; j&lt;NCB; j++)
            printf(&quot;%6.2f  &quot;, c[i][j]);
        printf(&quot;\n&quot;); 
    }
    return 0;
}
</pre></div>

</div>
</div>
</div>

</div>
<div class="cell border-box-sizing code_cell rendered">
<div class="input">
<div class="prompt input_prompt">In&nbsp;[&nbsp;]:</div>
<div class="inner_cell">
    <div class="input_area">
<div class=" highlight hl-ipython3"><pre><span></span><span class="o">!</span>g++ -Wall -fopenmp -O2 -pedantic  mmult-block.c -o mmult-block
</pre></div>

</div>
</div>
</div>

</div>
<div class="cell border-box-sizing code_cell rendered">
<div class="input">
<div class="prompt input_prompt">In&nbsp;[&nbsp;]:</div>
<div class="inner_cell">
    <div class="input_area">
<div class=" highlight hl-ipython3"><pre><span></span><span class="o">!</span>./mmult-block
</pre></div>

</div>
</div>
</div>

</div>
<div class="cell border-box-sizing text_cell rendered">
<div class="prompt input_prompt">
</div>
<div class="inner_cell">
<div class="text_cell_render border-box-sizing rendered_html">
<hr>
<p><a id='series'></a></p>
<h2 id="Series-Formul&#230;">Series Formul&#230;<a class="anchor-link" href="#Series-Formul&#230;">&#182;</a></h2><p>Series representations are common useful forms for function approximations like trigonometric functions and spherical harmonics.  For instance, the sine function (for $z \in \mathbb{C}$) may be written in a product form as
$$\frac{\sin z}{z} = \prod_{k=1}^{\infty} \left( 1 - \frac{z^2}{k^2\pi^2} \right) \text{.}$$
For small $z$, this form converges quickly.  This being the case, we can calculate each term independently over $P$ processes and reduce the result by multiplication.</p>

</div>
</div>
</div>
<div class="cell border-box-sizing code_cell rendered">
<div class="input">
<div class="prompt input_prompt">In&nbsp;[&nbsp;]:</div>
<div class="inner_cell">
    <div class="input_area">
<div class=" highlight hl-ipython3"><pre><span></span><span class="o">%%</span><span class="k">file</span> series.cpp
#include &lt;complex&gt;
#include &lt;iostream&gt;
#include &lt;cmath&gt;
#include &lt;omp.h&gt;

using namespace std;

#define PI 3.1415926535

// The k-th term of the infinite product series for sine.
static complex&lt;double&gt; term(int k, complex&lt;double&gt; z) {
    return (complex&lt;double&gt;(1.0, 0.0) - pow(z, 2)/(pow(k, 2) * PI*PI));
}

int main(int argc, char** argv) {
    int N = 10;
    if (argc &gt; 1) N = atoi(argv[1]);
    complex&lt;double&gt; z = complex&lt;double&gt;(PI*0.25, PI*0.25);
    if (argc &gt; 2) z = complex&lt;double&gt;(atof(argv[2]), atof(argv[3]));
    
    complex&lt;double&gt; res, i_res;
    double res_r = 1.0, res_i = 1.0;
    int j;
    #pragma omp parallel for private(i_res, j) reduction(*:res_r,res_i) schedule(static,1)
    for (j = 1; j &lt; N; j++) {
        i_res = term(j, z);
        res_r *= real(i_res);
        res_i *= imag(i_res);
    }
    // note that reduction over STL data types is not yet supported
    res = complex&lt;double&gt;(res_r, res_i) * z;
    cout &lt;&lt; &quot;Using &quot; &lt;&lt; omp_get_max_threads() &lt;&lt; &quot; threads and &quot; &lt;&lt; N &lt;&lt; &quot; terms, &quot;;
    cout &lt;&lt; &quot;the value of sin(&quot; &lt;&lt; z &lt;&lt; &quot;) is &quot; &lt;&lt; res &lt;&lt; &quot;.\n&quot;;
    cout &lt;&lt; &quot;This compares to the library value of &quot; &lt;&lt; sin(z) &lt;&lt; &quot; with an error of &quot; &lt;&lt; (sin(z)-res) &lt;&lt; &quot;.\n&quot;;
    return 0;
}
</pre></div>

</div>
</div>
</div>

</div>
<div class="cell border-box-sizing code_cell rendered">
<div class="input">
<div class="prompt input_prompt">In&nbsp;[&nbsp;]:</div>
<div class="inner_cell">
    <div class="input_area">
<div class=" highlight hl-ipython3"><pre><span></span><span class="o">!</span>g++ -Wall -fopenmp -O2 -pedantic  series.cpp -o series
</pre></div>

</div>
</div>
</div>

</div>
<div class="cell border-box-sizing code_cell rendered">
<div class="input">
<div class="prompt input_prompt">In&nbsp;[&nbsp;]:</div>
<div class="inner_cell">
    <div class="input_area">
<div class=" highlight hl-ipython3"><pre><span></span><span class="o">!</span>./series <span class="m">16</span> 0.0 0.31415
</pre></div>

</div>
</div>
</div>

</div>
<div class="cell border-box-sizing text_cell rendered">
<div class="prompt input_prompt">
</div>
<div class="inner_cell">
<div class="text_cell_render border-box-sizing rendered_html">
<h3 id="Exercise">Exercise<a class="anchor-link" href="#Exercise">&#182;</a></h3><ul>
<li>Write a series summation code to calculate sine:
$$
\begin{eqnarray}
\sin x
& = x - \frac{x^3}{3!} + \frac{x^5}{5!} - \frac{x^7}{7!} + \cdots \\[8pt]
& = \sum_{n=0}^\infty \frac{(-1)^n}{(2n+1)!}x^{2n+1} \\
\end{eqnarray}
$$</li>
</ul>
<p>Test it with $\sin (\pi/3) \approx 0.866025403784438...$.</p>

</div>
</div>
</div>
<div class="cell border-box-sizing code_cell rendered">
<div class="input">
<div class="prompt input_prompt">In&nbsp;[&nbsp;]:</div>
<div class="inner_cell">
    <div class="input_area">
<div class=" highlight hl-ipython3"><pre><span></span><span class="o">%%</span><span class="k">file</span> sine.cpp
</pre></div>

</div>
</div>
</div>

</div>
<div class="cell border-box-sizing code_cell rendered">
<div class="input">
<div class="prompt input_prompt">In&nbsp;[&nbsp;]:</div>
<div class="inner_cell">
    <div class="input_area">
<div class=" highlight hl-ipython3"><pre><span></span><span class="o">!</span>g++ -Wall -fopenmp -O2 -pedantic  sine.cpp -o sine
</pre></div>

</div>
</div>
</div>

</div>
<div class="cell border-box-sizing code_cell rendered">
<div class="input">
<div class="prompt input_prompt">In&nbsp;[&nbsp;]:</div>
<div class="inner_cell">
    <div class="input_area">
<div class=" highlight hl-ipython3"><pre><span></span><span class="o">!</span>./sine 1.0471975511966  #pi/3
</pre></div>

</div>
</div>
</div>

</div>
<div class="cell border-box-sizing text_cell rendered">
<div class="prompt input_prompt">
</div>
<div class="inner_cell">
<div class="text_cell_render border-box-sizing rendered_html">
<hr>
<p><a id='montecarlo'></a></p>
<h2 id="Monte-Carlo">Monte Carlo<a class="anchor-link" href="#Monte-Carlo">&#182;</a></h2><p>Now, you'll probably never write your own matrix multiplication code (you should use a library instead), but you may very well find yourself needing to write a Monte Carlo code from scratch for a specific problem.  Monte Carlo problems use random numbers to sample an integral (or, effectively the same thing, integrate a differential equation) and can be very competitive for some classes of problems because they are often embarassingly parallel.</p>

</div>
</div>
</div>
<div class="cell border-box-sizing text_cell rendered">
<div class="prompt input_prompt">
</div>
<div class="inner_cell">
<div class="text_cell_render border-box-sizing rendered_html">
<h3 id="Random-Number-Generation">Random Number Generation<a class="anchor-link" href="#Random-Number-Generation">&#182;</a></h3><p>The tricky thing about Monte Carlo codes is that the random numbers really do need to be independent.  As you are trying to explore some region of phase space thoroughly, even high-order repetitions can bias your results in subtle and difficult-to-discover ways.</p>
<p><a href="http://xkcd.com/"><img src="https://bytebucket.org/davis68/parallel/raw/fc24d274c088ba5087688ef25cf8e724f532319d/lessons/img/xkcd-random_number.png?token=35967e7728e79fb403034d834ccf92f127f4d215" alt=""></a></p>
<p>We have previously glossed over this problem by simply invoking a uniform random number generator (RNG), $U \rightarrow x \in [0,1)$, that I hacked together because it works and is concise and readable without being distracting.</p>

<pre><code>double uniform_rng() { return (double)rand() / (double)RAND_MAX; } // Not good

</code></pre>
<p>Generally speaking, RNGs that are not reentrant (<em>i.e.</em>, able to be accessed multiple times simultaneously and independently as well as interrupted and resumed indiscriminately) are not thread safe, and cannot be used in parallel code.  For a role-playing game, say, this is probably fine.  When exploring multidimensional phase space for a mission-critical activity, it's better to not take chances.  The <em>problem</em> with this RNG, as I mentioned before, is that it is not <em>thread safe</em>.  That is, we can make no guarantees about whether or not subsequent numbers drawn from this distribution are in fact independent of prior numbers.  (Incidentally, I found this problem to be more pronounced with MPI than with OpenMP.)</p>

</div>
</div>
</div>
<div class="cell border-box-sizing code_cell rendered">
<div class="input">
<div class="prompt input_prompt">In&nbsp;[&nbsp;]:</div>
<div class="inner_cell">
    <div class="input_area">
<div class=" highlight hl-ipython3"><pre><span></span><span class="o">%%</span><span class="k">file</span> rng_bad.cpp
#include &lt;math.h&gt;
#include &lt;stdio.h&gt;
#include &lt;stdlib.h&gt;
#include &lt;time.h&gt;
#include &lt;omp.h&gt;

#define N 100000
#define R 1

double uniform_rng() { return (double)rand() / (double)RAND_MAX; }

int main(int argc, char *argv[]) {
    int tid;
    srand(time(NULL));
    
    //  Calculate and display a few &quot;random&quot; numbers.
    #pragma omp parallel private(tid)
    {
        tid = omp_get_thread_num();
        printf(&quot;%d\t%f\n&quot;, tid, uniform_rng());
    }
    
    return 0;
}
</pre></div>

</div>
</div>
</div>

</div>
<div class="cell border-box-sizing code_cell rendered">
<div class="input">
<div class="prompt input_prompt">In&nbsp;[&nbsp;]:</div>
<div class="inner_cell">
    <div class="input_area">
<div class=" highlight hl-ipython3"><pre><span></span><span class="o">!</span>g++ -Wall -fopenmp -O2 -pedantic  rng_bad.cpp -o rng_bad
<span class="o">!</span>./rng_bad
</pre></div>

</div>
</div>
</div>

</div>
<div class="cell border-box-sizing text_cell rendered">
<div class="prompt input_prompt">
</div>
<div class="inner_cell">
<div class="text_cell_render border-box-sizing rendered_html">
<p>The next option you have is to use the RAND48 library which is a collection of POSIX standards and some associated GNU extensions for random number generation.  Below we illustrate <code>erand48</code>, which is <a href="http://www.unix.com/man-page/POSIX/3posix/erand48/">nominally thread safe</a> although opinions vary.</p>

</div>
</div>
</div>
<div class="cell border-box-sizing code_cell rendered">
<div class="input">
<div class="prompt input_prompt">In&nbsp;[&nbsp;]:</div>
<div class="inner_cell">
    <div class="input_area">
<div class=" highlight hl-ipython3"><pre><span></span><span class="o">%%</span><span class="k">file</span> rng_good.cpp
#include &lt;cmath&gt;
#include &lt;cstdio&gt;
#include &lt;cstdlib&gt;
#include &lt;ctime&gt;
#include &lt;omp.h&gt;

#define N 100000
#define R 1

int main(int argc, char *argv[]) {
    int tid;
    unsigned short rand_seed[3];
    srand48(time(NULL));
    
    //  Calculate and display a few random numbers.
    #pragma omp parallel private(tid, rand_seed)
    {
        tid = omp_get_thread_num();
        rand_seed[0] = tid + 120 + time(NULL);
        rand_seed[1] = tid * 2 + time(NULL);
        rand_seed[2] = tid * 100 + time(NULL);
        printf(&quot;%d\t%f\n&quot;, tid, erand48(rand_seed));
    }
    
    return 0;
}
</pre></div>

</div>
</div>
</div>

</div>
<div class="cell border-box-sizing code_cell rendered">
<div class="input">
<div class="prompt input_prompt">In&nbsp;[&nbsp;]:</div>
<div class="inner_cell">
    <div class="input_area">
<div class=" highlight hl-ipython3"><pre><span></span><span class="o">!</span>g++ -Wall -fopenmp -O2 -pedantic  rng_good.cpp -o rng_good
<span class="o">!</span>./rng_good
</pre></div>

</div>
</div>
</div>

</div>
<div class="cell border-box-sizing text_cell rendered">
<div class="prompt input_prompt">
</div>
<div class="inner_cell">
<div class="text_cell_render border-box-sizing rendered_html">
<p>If we are using C++ instead of C, we can also <code>#include &lt;random&gt;</code> to access some thread-safe generators <a href="http://msdn.microsoft.com/en-us/library/bb982398.aspx">(ref)</a>.  (This is the same as the <a href="http://www.boost.org/">Boost</a> <code>random</code> library, and we will make particular use of the Mersenne twister algorithm.)  We examine it first as a serial code to clarify what is going on, then as a parallel OpenMP code.</p>

</div>
</div>
</div>
<div class="cell border-box-sizing code_cell rendered">
<div class="input">
<div class="prompt input_prompt">In&nbsp;[&nbsp;]:</div>
<div class="inner_cell">
    <div class="input_area">
<div class=" highlight hl-ipython3"><pre><span></span><span class="o">%%</span><span class="k">file</span> rng_better.cpp
#include &lt;cmath&gt;
#include &lt;random&gt;
#include &lt;cstdio&gt;
#include &lt;cstdlib&gt;
#include &lt;ctime&gt;
#include &lt;omp.h&gt;

#define N 100000
#define R 1

int main(int argc, char *argv[]) {
    int tid;
    std::random_device rd;   // non-deterministic bit generator
    std::mt19937 gen;        // Mersenne twister URNG
    std::uniform_real_distribution&lt;&gt; dist(0,1); // transforms results to a useful distribution and range
    
    //  Calculate and display a few random numbers.
    #pragma omp parallel private(tid, rd, gen, dist)
    {
        tid = omp_get_thread_num();
        gen.seed(time(NULL)+tid);
        
        printf(&quot;%d\t%f\n&quot;, tid, dist(gen));
    }
    
    return 0;
}
</pre></div>

</div>
</div>
</div>

</div>
<div class="cell border-box-sizing code_cell rendered">
<div class="input">
<div class="prompt input_prompt">In&nbsp;[&nbsp;]:</div>
<div class="inner_cell">
    <div class="input_area">
<div class=" highlight hl-ipython3"><pre><span></span><span class="o">!</span>g++ -Wall -fopenmp -O2 -pedantic  rng_better.cpp -o rng_better
<span class="o">!</span>./rng_better
</pre></div>

</div>
</div>
</div>

</div>
<div class="cell border-box-sizing text_cell rendered">
<div class="prompt input_prompt">
</div>
<div class="inner_cell">
<div class="text_cell_render border-box-sizing rendered_html">
<p>Finally, the <em>best</em> general option is to use a RNG library designed for parallel Monte Carlo simulations like <a href="http://numbercrunch.de/trng/">Tina's RNG</a>.  Since installation is specific to a system, we will forgo a demonstration here.  (Keep in mind that you can install libraries to your home folder though, even if the system administrators don't jump for a site installation.)</p>

</div>
</div>
</div>
<div class="cell border-box-sizing code_cell rendered">
<div class="input">
<div class="prompt input_prompt">In&nbsp;[&nbsp;]:</div>
<div class="inner_cell">
    <div class="input_area">
<div class=" highlight hl-ipython3"><pre><span></span><span class="c1"># plotting code if you&#39;d like to see RNGs v. rank.</span>
<span class="kn">from</span> <span class="nn">numpy</span> <span class="k">import</span> <span class="n">linspace</span><span class="p">,</span> <span class="n">zeros</span><span class="p">,</span> <span class="n">append</span>
<span class="n">stdout</span> <span class="o">=</span> <span class="o">!</span>./rng_better
<span class="n">x</span> <span class="o">=</span> <span class="p">[]</span>
<span class="n">y</span> <span class="o">=</span> <span class="p">[]</span>
<span class="k">for</span> <span class="n">out</span> <span class="ow">in</span> <span class="n">stdout</span><span class="p">:</span>
    <span class="n">x</span><span class="o">.</span><span class="n">append</span><span class="p">(</span><span class="nb">float</span><span class="p">(</span><span class="n">out</span><span class="o">.</span><span class="n">split</span><span class="p">(</span><span class="s1">&#39;</span><span class="se">\t</span><span class="s1">&#39;</span><span class="p">)[</span><span class="mi">0</span><span class="p">]))</span>
    <span class="n">y</span><span class="o">.</span><span class="n">append</span><span class="p">(</span><span class="nb">float</span><span class="p">(</span><span class="n">out</span><span class="o">.</span><span class="n">split</span><span class="p">(</span><span class="s1">&#39;</span><span class="se">\t</span><span class="s1">&#39;</span><span class="p">)[</span><span class="mi">1</span><span class="p">]))</span>

<span class="kn">import</span> <span class="nn">matplotlib</span> <span class="k">as</span> <span class="nn">mpl</span>
<span class="kn">import</span> <span class="nn">matplotlib.pyplot</span> <span class="k">as</span> <span class="nn">plt</span>
<span class="kn">from</span> <span class="nn">matplotlib</span> <span class="k">import</span> <span class="n">cm</span>
<span class="o">%</span><span class="k">matplotlib</span> inline

<span class="n">fig</span><span class="p">,</span> <span class="n">axes</span> <span class="o">=</span> <span class="n">plt</span><span class="o">.</span><span class="n">subplots</span><span class="p">(</span><span class="n">nrows</span><span class="o">=</span><span class="mi">1</span><span class="p">,</span> <span class="n">ncols</span><span class="o">=</span><span class="mi">2</span><span class="p">,</span> <span class="n">figsize</span><span class="o">=</span><span class="p">(</span><span class="mi">16</span><span class="p">,</span><span class="mi">4</span><span class="p">))</span>
<span class="n">axes</span><span class="p">[</span><span class="mi">0</span><span class="p">]</span><span class="o">.</span><span class="n">plot</span><span class="p">(</span><span class="n">x</span><span class="p">,</span> <span class="n">y</span><span class="p">,</span> <span class="s1">&#39;r.&#39;</span><span class="p">)</span>
<span class="n">axes</span><span class="p">[</span><span class="mi">1</span><span class="p">]</span><span class="o">.</span><span class="n">plot</span><span class="p">(</span><span class="n">zeros</span><span class="p">(</span><span class="nb">len</span><span class="p">(</span><span class="n">x</span><span class="p">)),</span><span class="n">y</span><span class="p">,</span><span class="s1">&#39;r.&#39;</span><span class="p">)</span>
<span class="n">fig</span><span class="o">.</span><span class="n">show</span><span class="p">()</span>
</pre></div>

</div>
</div>
</div>

</div>
<div class="cell border-box-sizing text_cell rendered">
<div class="prompt input_prompt">
</div>
<div class="inner_cell">
<div class="text_cell_render border-box-sizing rendered_html">
<h3 id="Monte-Carlo-problem">Monte Carlo problem<a class="anchor-link" href="#Monte-Carlo-problem">&#182;</a></h3><p>That aside was longer than I had intended, but I hope it was profitable in laying out how to deal with random number generation safely and practically.  Let's take a look at our Monte Carlo problem again.</p>
<p>Consider the problem of determining, for the distance between a pair of random points, the average distance and standard deviation of that value.  The following code illustrates this principle.</p>

</div>
</div>
</div>
<div class="cell border-box-sizing code_cell rendered">
<div class="input">
<div class="prompt input_prompt">In&nbsp;[&nbsp;]:</div>
<div class="inner_cell">
    <div class="input_area">
<div class=" highlight hl-ipython3"><pre><span></span><span class="o">%%</span><span class="k">file</span> monte_carlo_omp.cpp
#include &lt;cmath&gt;
#include &lt;random&gt;
#include &lt;sys/time.h&gt;
#include &lt;cstdio&gt;
#include &lt;ctime&gt;
#include &lt;unistd.h&gt;
#include &lt;omp.h&gt;

#define NPTS 10

using namespace std;

//  Termination criteria
double rtol       = 1e-2; // Relative tolerance
long   max_trials = 1e6;  // Maximum number of MC trials
long   num_batch  = 500;  // Number of batches per trial

/** is_converged()
 *  Use adaptive error estimation to terminate the simulation when the error bars
 *  at one standard deviation are below rtol.
 */
bool is_converged(double sum_x,          // Sum of x
                  double sum_x2,         // Sum of x, squared
                  double num_trials) {   // Number of trials
    double E_x   = sum_x / num_trials;
    double E_x2  = sum_x2 / num_trials;
    double var_x = E_x2 - E_x * E_x;
    return (var_x/(E_x*E_x) &lt; rtol*rtol || num_trials &gt; max_trials);
}

int main(int argc, char** argv) {
    int    num_threads = omp_get_max_threads();
    double E_x, E_x2, sigma_x;
    
    //  Monte Carlo result variables
    double all_sum_x   = 0;
    double all_sum_x2  = 0;
    long   all_ntrials = 0;
    
    //  Private state variables
    int    f_done;  // Flag for completion
    int    tid,     // ID of this OpenMP thread
           tnbatch; // 
    double sum_x,   // 
           sum_x2;  // 
    long   seed;    // Unique seed for Mersenne twister PRNG
    
    std::random_device rd;   // non-deterministic bit generator
    std::mt19937 gen;        // Mersenne twister URNG
    std::uniform_real_distribution&lt;&gt; dist(0,1); // transforms results to a useful distribution and range
    
    #pragma omp parallel shared(all_sum_x, all_sum_x2, all_ntrials, num_batch) private(gen, dist, seed, f_done, tid, sum_x, sum_x2)
    {
        tnbatch = num_batch;
        tid = omp_get_thread_num();
        f_done = false;
        
        #pragma omp critical
        seed = static_cast&lt;unsigned int&gt;(std::time(0)) + tid;
        gen.seed(seed);
        
        do {
            //  Run batch of experiments.
            sum_x = 0;
            sum_x2 = 0;
            for (int t = 0; t &lt; tnbatch; ++t) {
                double x = dist(gen);
                double xx[2][NPTS];
                double d2 = -1;
                
                for (int i = 0; i &lt; NPTS; i++) {
                    double x_i = dist(gen);
                    double y_i = dist(gen);
                    xx[0][i] = x_i;
                    xx[1][i] = y_i;
                    //  Assess distance between points.
                    for (int j = 0; j &lt; i; j++) {
                        double d_x_j  = xx[0][j] - x_i;
                        double d_y_j  = xx[1][j] - y_i;
                        double d_ij2 = d_x_j*d_x_j + d_y_j*d_y_j;
                        if (d2 &lt; 0 || d_ij2 &lt; d2)
                            d2 = d_ij2;
                    }
                }
                x = sqrt(d2);
                sum_x  += x;
                sum_x2 += x*x;
            }
            
            //  Update global counts and test for termination.
            #pragma omp critical
            {
                f_done = (f_done || is_converged(all_sum_x, all_sum_x2, all_ntrials));
                all_sum_x   += sum_x;
                all_sum_x2  += sum_x2;
                all_ntrials += tnbatch;
                f_done = (f_done || is_converged(all_sum_x, all_sum_x2, all_ntrials));
            }
        } while (!f_done);
    }
    
    //  Compute expected value and error bars at one standard deviation.
    E_x     = all_sum_x / all_ntrials;
    E_x2    = all_sum_x2 / all_ntrials;
    sigma_x = sqrt((E_x2-E_x*E_x) / all_ntrials);
    
    //  Output the value and error bar.
    printf(&quot;With %d threads, the result was $\\bar{x}$ = %f and $\\sigma_{x}$ = %f.\n&quot;, num_threads, E_x, sigma_x);
    return 0;
}
//rewrite this using TINA?  using thread lock on master RNG? _both_
</pre></div>

</div>
</div>
</div>

</div>
<div class="cell border-box-sizing code_cell rendered">
<div class="input">
<div class="prompt input_prompt">In&nbsp;[&nbsp;]:</div>
<div class="inner_cell">
    <div class="input_area">
<div class=" highlight hl-ipython3"><pre><span></span><span class="o">!</span>g++ -Wall -fopenmp -O2 -pedantic  monte_carlo_omp.cpp -o monte_carlo_omp
</pre></div>

</div>
</div>
</div>

</div>
<div class="cell border-box-sizing code_cell rendered">
<div class="input">
<div class="prompt input_prompt">In&nbsp;[&nbsp;]:</div>
<div class="inner_cell">
    <div class="input_area">
<div class=" highlight hl-ipython3"><pre><span></span><span class="o">!</span>./monte_carlo_omp
</pre></div>

</div>
</div>
</div>

</div>
<div class="cell border-box-sizing text_cell rendered">
<div class="prompt input_prompt">
</div>
<div class="inner_cell">
<div class="text_cell_render border-box-sizing rendered_html">
<hr>
<p><a id='tips'></a></p>
<h2 id="A-Few-More-Tips">A Few More Tips<a class="anchor-link" href="#A-Few-More-Tips">&#182;</a></h2><p><strong>Environment Variables</strong></p>
<p>OpenMP permits you to specify characteristics of the system's behavior through environment variables as well, letting you tune your application for a given platform without having to deal with those idiosyncrasies in code.</p>
<p><code>$OMP_NUM_THREADS 8/4,2</code>
Specifies the default number of threads to use in parallel regions.  "Having more OpenMP threads than hardware threads/cores can improve load balancing." (<a href="http://openmp.org/forum/viewtopic.php?f=3&amp;t=1566">forum</a>)  (But watch out for resource conflicts and cache thrashing!)</p>
<p><code>$OMP_DYNAMIC TRUE/FALSE</code></p>
<p><code>$OMP_NESTED TRUE/FALSE</code></p>
<p><code>$OMP_PROC_BIND TRUE/FALSE</code>.  With processor binding, the programmer instructs the operating system that a thread in the program should run on the same processor throughout the execution of the program.</p>
<p>Performance can be enhanced with processor binding, but performance degradation will occur if multiple threads are bound to the same virtual processor. (<a href="http://docs.oracle.com/cd/E24457_01/html/E21996/aewce.html#scrolltoc">(Oracle/Sun)</a>) (<a href="https://stackoverflow.com/questions/24368576/poor-performance-due-to-hyper-threading-with-openmp-how-to-bind-threads-to-core">Hyperthreading poor performance</a>)</p>
<p>Binding threads to processors can result in better cache utilization, thereby reducing costly memory accesses. This is the primary motivation for binding threads to processors. (<a href="https://computing.llnl.gov/tutorials//openMP/index.html#Stack">LLNL</a>)</p>
<p><code>$OMP_STACKSIZE 10M</code></p>
<p><code>$OMP_WAIT_POLICY ACTIVE/PASSIVE</code></p>
<p><code>$OMP_SCHEDULE 'STATIC'/'GUIDED,4'</code> (<a href="http://openmp.org/forum/viewtopic.php?f=3&amp;t=83">good explanation of when to use</a>)</p>
<p><code>$GOMP_CPU_AFFINITY "0 1 2 3 4 5 6 7"</code>.  Binds threads to specific CPUs.  (Differs from <code>$OMP_PROC_BIND</code> which merely binds threads to processors without switching, not specifying which ones.)  Can help performance, esp with <code>$OMP_PROC_BIND=TRUE</code>.  (<a href="https://stackoverflow.com/questions/24368576/poor-performance-due-to-hyper-threading-with-openmp-how-to-bind-threads-to-core">forum</a>)</p>
<p><strong>Sharing Memory-Managed STL Containers</strong></p>
<p>It's a little tricky to use memory-managed containers (STL) in OpenMP, but some clever tricks can enable it (mainly, the judicious use of <code>master</code>, <code>single</code>, and especially <code>critical</code>).  For instance, the following technique should let you create a vector in parallel and then use the <code>critical</code> keyword to populate the communal vector.</p>

<pre><code>std::vector&lt;int&gt; vec;
#pragma omp parallel
{
    std::vector&lt;int&gt; vec_private;
    #pragma omp for nowait //fill vec_private in parallel
    for(int i=0; i&lt;100; i++) {
        vec_private.push_back(i);
    }
    #pragma omp critical
    vec.insert(vec.end(), vec_private.begin(), vec_private.end());
}

</code></pre>
<p><strong>Faster <code>for</code> Loops</strong></p>
<p>The default scheduling behavior for OpenMP is to partition out the iterations between threads with a chunk size of <code>n_indices / n_threads</code>.  Thus these threads, when they reach the end of their designated workload, just idle until all threads catch up.  A better way to handle this is to invoke some automatic load balancing with <code>schedule(dynamic, 1)</code>, which forces the system to hand out new work until all of it is done at once.  (<a href="http://brainvis.wustl.edu/wiki/index.php/Caret7:Development/OpenMP_tricks">src</a>)</p>
<p><strong>Barriers</strong></p>
<p>The use of <code>barrier</code> should be avoided, as it can cause inefficient overhead in many cases by making all threads wait to carry out an operation.  (This goes for <code>ordered</code> as well—and don't use large <code>critical</code> regions.)</p>
<p><strong><code>private</code> Variables</strong></p>
<p>Apparently on certain compilers, <code>private</code> has not worked properly in all cases.  Should you find this to be a problem, simply move your <code>private</code> variable declarations within the <code>parallel</code> code block, automatically rendering them private.  (This should not be a problem on contemporary compilers but may be on systems from 2011 or older.)  (<a href="http://brainvis.wustl.edu/wiki/index.php/Caret7:Development/OpenMP_tricks">src</a>)</p>

<pre><code>int i;
#pragma omp parallel for private(i)
{ ... }

#pragma omp parallel for
for (int i = 0; i &lt; N; i++) { ... }

</code></pre>
<p><strong>Loop Granularity</strong></p>
<p>Generally speaking, you will find better scalability with OpenMP if you keep loop granularity as fine as reasonable (but no finer!).  What this means is that you want to use the smallest iteration that doesn't incur sufficient thread creation overhead to make it inefficient.  This translates into two tips:  use nested OpenMP loops as appropriate; and use the <code>collapse</code> keyword to generate collapsed <code>for</code> loops.  <code>parallel</code> regions in inner loops incur overhead repeatedly and should be avoided.  (<a href="https://software.intel.com/en-us/articles/openmp-related-tips">ref</a>)</p>

<pre><code>#pragma omp parallel for collapse(2)
for (i = 0; i &lt; imax; i++)
    for (j = 0; j &lt; jmax; j++)
        a[ j + jmax*i] = 1.; 

</code></pre>
<p>You want to maximize parallel regions to get good benefit from OpenMP.</p>
<p><strong>Are My Loop Iterations Independent?</strong></p>
<p>Run it backwards.  If it still works, they most likely are.</p>
<p><strong>Load Balance</strong></p>
<p>Just do it.  If practical.</p>
<p><strong>User-Defined Reduction Operations</strong></p>
<p>As of <a href="http://www.openmp.org/mp-documents/OpenMP4.0.0.pdf">OpenMP 4.0</a>, user-defined reduction operations are supported.  This means that instead of being limited to scalar reductions (over <code>int</code>, <code>double</code>, etc.), you can now define reduction over, say, an STL <code>vector&lt;double&gt;</code>, thus enabling vector mathematics to use OpenMP.  (This is gold, by the way.)</p>

<pre><code>#pragma omp declare reduction (merge : std::vector&lt;int&gt; : omp_out.insert(omp_out.end(), omp_in.begin(), omp_in.end())) 

</code></pre>
<p>(For what it may be worth, when I first wanted to test this, my installed GCC version (4.8) didn't support the feature yet.  I upgraded to GCC 4.9 <a href="http://www.techenablement.com/gcc-4-9-1-adds-openmp-4-0-fortran-support-for-multicore/">which does support OpenMP 4.0</a> and then tested the code which follows as <code>reduce.cpp</code>.)</p>

</div>
</div>
</div>
<div class="cell border-box-sizing code_cell rendered">
<div class="input">
<div class="prompt input_prompt">In&nbsp;[&nbsp;]:</div>
<div class="inner_cell">
    <div class="input_area">
<div class=" highlight hl-ipython3"><pre><span></span><span class="o">%%</span><span class="k">file</span> reduce.cpp
#include &lt;iostream&gt;
#include &lt;cstdlib&gt;
#include &lt;omp.h&gt;

using namespace std;

struct force_t { double x, y; };

int main(int argc, char** argv) {
    #pragma omp declare reduction (+ : force_t : omp_out.x += omp_in.x, omp_out.y += omp_in.y)
    force_t pt;
    int N = 10;
    if (argc &gt; 1) N = atoi(argv[1]);
    
    #pragma omp parallel for reduction(+ : pt) schedule(static,1)
    for (int j = 0; j &lt; N; j++) {
        force_t my_pt;
        my_pt.x = 1.0*j;
        my_pt.y = 2.0*j;
        pt.x += my_pt.x;
        pt.y += my_pt.y;
    }
    cout &lt;&lt; &quot;Using &quot; &lt;&lt; omp_get_max_threads() &lt;&lt; &quot; threads, the resultant force is (&quot; &lt;&lt; pt.x &lt;&lt; &quot;,&quot; &lt;&lt; pt.y &lt;&lt; &quot;).\n&quot;;
}
</pre></div>

</div>
</div>
</div>

</div>
<div class="cell border-box-sizing code_cell rendered">
<div class="input">
<div class="prompt input_prompt">In&nbsp;[&nbsp;]:</div>
<div class="inner_cell">
    <div class="input_area">
<div class=" highlight hl-ipython3"><pre><span></span><span class="o">!</span>g++-4.9 -Wall -fopenmp -O2 -std<span class="o">=</span>c++11 -pedantic reduce.cpp -o reduce
</pre></div>

</div>
</div>
</div>

</div>
<div class="cell border-box-sizing code_cell rendered">
<div class="input">
<div class="prompt input_prompt">In&nbsp;[&nbsp;]:</div>
<div class="inner_cell">
    <div class="input_area">
<div class=" highlight hl-ipython3"><pre><span></span><span class="o">!</span>./reduce <span class="m">32</span>
</pre></div>

</div>
</div>
</div>

</div>
<div class="cell border-box-sizing text_cell rendered">
<div class="prompt input_prompt">
</div>
<div class="inner_cell">
<div class="text_cell_render border-box-sizing rendered_html">
<h3 id="Exercise">Exercise<a class="anchor-link" href="#Exercise">&#182;</a></h3><ul>
<li>Write a reduction code for the C++ STL <code>complex</code> data type addition operation.</li>
</ul>

</div>
</div>
</div>
<div class="cell border-box-sizing code_cell rendered">
<div class="input">
<div class="prompt input_prompt">In&nbsp;[&nbsp;]:</div>
<div class="inner_cell">
    <div class="input_area">
<div class=" highlight hl-ipython3"><pre><span></span><span class="o">%%</span><span class="k">file</span> reduce-complex.cpp
</pre></div>

</div>
</div>
</div>

</div>
<div class="cell border-box-sizing code_cell rendered">
<div class="input">
<div class="prompt input_prompt">In&nbsp;[&nbsp;]:</div>
<div class="inner_cell">
    <div class="input_area">
<div class=" highlight hl-ipython3"><pre><span></span><span class="o">!</span>g++ -Wall -fopenmp -O2 -pedantic  reduce-complex.cpp -o reduce-complex
</pre></div>

</div>
</div>
</div>

</div>
<div class="cell border-box-sizing code_cell rendered">
<div class="input">
<div class="prompt input_prompt">In&nbsp;[&nbsp;]:</div>
<div class="inner_cell">
    <div class="input_area">
<div class=" highlight hl-ipython3"><pre><span></span><span class="o">!</span>./reduce-complex <span class="m">32</span>
</pre></div>

</div>
</div>
</div>

</div>
<div class="cell border-box-sizing text_cell rendered">
<div class="prompt input_prompt">
</div>
<div class="inner_cell">
<div class="text_cell_render border-box-sizing rendered_html">
<hr>
<p><a id='vector'></a></p>
<h2 id="Using-Vectorization-(SIMD)-in-Practice">Using Vectorization (SIMD) in Practice<a class="anchor-link" href="#Using-Vectorization-(SIMD)-in-Practice">&#182;</a></h2><p>Vectorization (SIMD) is typically implemented by using compilation options in many modern processor/compiler workflows, however, so the scientific programmer rarely needs to directly address this operation in code.  For instance, with GCC, vectorization may be included by using the following compiler flags:</p>
<ul>
<li><p><code>-O3</code> Full optimization typically turns on all SSE vector operations available on the target processor platform, but makes it extremely difficult to debug the code effectively and should only be used in testing or release codes (<a href="">src</a>) (<a href="https://gcc.gnu.org/onlinedocs/gcc/Optimize-Options.html">ref</a>).</p>
</li>
<li><p><code>-msse4.2</code> The current generation of x86-64 processors supports some SSE standard; in this case, the current extension set supported is SSE 4.2.  (This enables all lower SSE extensions automatically, <em>e.g.</em>, <code>-msse3</code> is not necessary with <code>-msse4</code> invoked. (<a href="http://stackoverflow.com/a/10687419">src</a>) (<a href="https://gcc.gnu.org/onlinedocs/gcc/Option-Summary.html">ref</a>))</p>
</li>
<li><p><code>-mavx</code> The AVX (<em>A</em>dvanced <em>V</em>ector <em>E</em>xtensions) instruction set architecture is only supported on Intel Sandy Bridge and AMD Bulldozer processors and later models.  They extend integer commands to 256 (later 512) bits, increasing the performance of floating-point operations and vectorizable array operations. (<a href="https://01.org/blogs/dfineber/2014/devops-does-processor-matter-server-side-java-applications">src</a>)</p>
</li>
</ul>
<p><strong>Caution!</strong>  Know your architecture, however.  Specialized hardware, such as the Intel Xeon Phi, may not support a particular method.  In this case, the Xeon E3-1275v3 processor supports AVX but not SSE—it is not intended for multimedia operations, but numerical work on supercomputers.  (<a href="https://communities.intel.com/thread/43942?start=0&amp;tstart=0">src</a>)</p>
<p>Thus, effectively using vectorization is often simply a matter of compiling your program correctly on a supporting architecture:</p>

<pre><code>gcc -O3 -msse4.2 -std=c99 -Wall -o hello_world_vector hello_world_vector.c

</code></pre>
<p>Consult the following references for more information.</p>
<ul>
<li><p><a href="https://stackoverflow.com/questions/10509872/comparison-between-openmp-and-vectorization">(Stack Overflow:  Comparison between OpenMP and Vectorization)</a></p>
</li>
<li><p><a href="https://stackoverflow.com/questions/14861447/using-openmp-stops-gcc-auto-vectorising?rq=1">(Stack Overflow:  Using OpenMP Stops GCC Auto Vectoising)</a></p>
</li>
<li><p><a href="https://software.intel.com/en-us/articles/performance-essentials-with-openmp-40-vectorization">(Performance Essentials with OpenMP 4.0 Vectorization)</a></p>
</li>
<li><p><a href="http://basis13.wordpress.com/2014/02/20/simd-programming-with-gcc-first-steps/">(SIMD Programming with GCC)</a></p>
</li>
</ul>

</div>
</div>
</div>
<div class="cell border-box-sizing text_cell rendered">
<div class="prompt input_prompt">
</div>
<div class="inner_cell">
<div class="text_cell_render border-box-sizing rendered_html">
<hr>
<p><a id='assess'></a></p>
<h2 id="Assessing-Performance">Assessing Performance<a class="anchor-link" href="#Assessing-Performance">&#182;</a></h2><p>We've gone to a fair amount of work to make our codes parallel and vectorized, but is it worth the effort?  As always, it depends.  We'll run a few sample codes below to assess their relative performance under different library and compilation conditions.</p>
<p>The basic function we need to do this is actually provided by <code>omp.h</code>:  <code>omp_get_wtime</code>, which has <code>double</code> resolution in seconds and so is quite adequate for timing both parallel and serial code segments.</p>
<p>Let's take a look at the series product problem from earlier.</p>

</div>
</div>
</div>
<div class="cell border-box-sizing code_cell rendered">
<div class="input">
<div class="prompt input_prompt">In&nbsp;[&nbsp;]:</div>
<div class="inner_cell">
    <div class="input_area">
<div class=" highlight hl-ipython3"><pre><span></span><span class="o">%%</span><span class="k">file</span> series-time.cpp
#include &lt;complex&gt;
#include &lt;iostream&gt;
#include &lt;cmath&gt;
#include &lt;omp.h&gt;

using namespace std;

#define PI 3.1415926535

// The k-th term of the infinite product series for sine.
static complex&lt;double&gt; term(int k, complex&lt;double&gt; z) {
    return (complex&lt;double&gt;(1.0, 0.0) - pow(z, 2)/(pow(k, 2) * PI*PI));
}

int main(int argc, char** argv) {
    int N = 10;
    if (argc &gt; 1) N = atoi(argv[1]);
    complex&lt;double&gt; z = complex&lt;double&gt;(PI*0.25, PI*0.25);
    if (argc &gt; 2) z = complex&lt;double&gt;(atof(argv[2]), atof(argv[3]));
    
    double ser_start, ser_end, par_start, par_end;
    
    complex&lt;double&gt; res, i_res;
    double res_r = 1.0, res_i = 1.0;
    int j;
    
    //  Solve the problem serially first.
    ser_start = omp_get_wtime();
    for (j = 1; j &lt; N; j++) {
        i_res = term(j, z);
        res_r *= real(i_res);
        res_i *= imag(i_res);
    }
    // note that reduction over STL data types is not yet supported
    res = complex&lt;double&gt;(res_r, res_i) * z;
    ser_end = omp_get_wtime();
    cout &lt;&lt; &quot;The serial code takes &quot; &lt;&lt; (ser_end - ser_start) &lt;&lt; &quot; s to get the answer &quot; &lt;&lt; res &lt;&lt; &quot;.\n&quot;;
    
    //  Solve the parallel problem.
    par_start = omp_get_wtime();
    #pragma omp parallel for private(i_res, j) reduction(*:res_r,res_i) schedule(static,1)
    for (j = 1; j &lt; N; j++) {
        i_res = term(j, z);
        res_r *= real(i_res);
        res_i *= imag(i_res);
    }
    // note that reduction over STL data types is not yet supported
    res = complex&lt;double&gt;(res_r, res_i) * z;
    par_end = omp_get_wtime();
    cout &lt;&lt; &quot;The parallel code takes &quot; &lt;&lt; (par_end - par_start) &lt;&lt; &quot; s to get the answer &quot; &lt;&lt; res &lt;&lt; &quot; with &quot; &lt;&lt; omp_get_max_threads() &lt;&lt; &quot; threads.\n&quot;;
}
</pre></div>

</div>
</div>
</div>

</div>
<div class="cell border-box-sizing code_cell rendered">
<div class="input">
<div class="prompt input_prompt">In&nbsp;[&nbsp;]:</div>
<div class="inner_cell">
    <div class="input_area">
<div class=" highlight hl-ipython3"><pre><span></span><span class="o">!</span>g++ -Wall -fopenmp -O2 -pedantic  series-time.cpp -o series-time
</pre></div>

</div>
</div>
</div>

</div>
<div class="cell border-box-sizing code_cell rendered">
<div class="input">
<div class="prompt input_prompt">In&nbsp;[&nbsp;]:</div>
<div class="inner_cell">
    <div class="input_area">
<div class=" highlight hl-ipython3"><pre><span></span><span class="o">!</span>./series-time <span class="m">1</span>
<span class="o">!</span>./series-time <span class="m">10</span>
<span class="o">!</span>./series-time <span class="m">100</span>
<span class="o">!</span>./series-time <span class="m">1000</span>
<span class="o">!</span>./series-time <span class="m">10000</span>
<span class="o">!</span>./series-time <span class="m">100000</span>
<span class="o">!</span>./series-time <span class="m">1000000</span>
<span class="o">!</span>./series-time <span class="m">10000000</span>
<span class="o">!</span>./series-time <span class="m">100000000</span>
</pre></div>

</div>
</div>
</div>

</div>
<div class="cell border-box-sizing text_cell rendered">
<div class="prompt input_prompt">
</div>
<div class="inner_cell">
<div class="text_cell_render border-box-sizing rendered_html">
<p>In this case, for small numbers of the series there is clearly a penalty to be paid for parallelizing the code (see the figure below from some data on my own machine, a 2013 MacBook Pro with quad-core 2.7 GHz Intel i7).  However, as the number of terms in the series increases, there is a crossover point and parallel computation becomes more efficient from a <em>wall time</em> perspective.  (That is, for time as we observe it.  In processor time, the total time spent on the calculation should be multiplied by the number of processes involved.)</p>
<p><img src="https://bytebucket.org/davis68/parallel/raw/fc24d274c088ba5087688ef25cf8e724f532319d/lessons/img/series-time.png?token=136c4e9258fff5a3714dd9fbe0f8317bb0c4dc8b" alt=""></p>
<p>You will find this generally true for a well-crafted parallel algorithm—small problems incur too much overhead to be worth the effort, but for large domains and arrays OpenMP can yield a handsome benefit.</p>

</div>
</div>
</div>
<div class="cell border-box-sizing text_cell rendered">
<div class="prompt input_prompt">
</div>
<div class="inner_cell">
<div class="text_cell_render border-box-sizing rendered_html">
<hr>
<p><a id='bestprac'></a></p>
<h2 id="Best-Practices-for-Scientific-Parallel-Programming">Best Practices for Scientific Parallel Programming<a class="anchor-link" href="#Best-Practices-for-Scientific-Parallel-Programming">&#182;</a></h2><p>Now this may be kind of a funny aside, but it is a concern I often had as a student.  MPI owes a lot to the local computer science and parallel programming folks on campus, so is it just a tool we prefer because it is "in-house"?  There are tools that get talked about a lot, as well as advanced research projects that offer interesting features but are not widely adopted, like <a href="http://charm.cs.uiuc.edu/">CHARM++</a> or <a href="http://upc.lbl.gov/">UPC</a>.  No, MPI is used everywhere and really is the standard for supercomputing today.</p>
<h3 id="The-Process-of-Creating-a-Parallel-Program">The Process of Creating a Parallel Program<a class="anchor-link" href="#The-Process-of-Creating-a-Parallel-Program">&#182;</a></h3><p><strong>Matrix Relaxation</strong></p>
<p>The best parallel algorithm is oten not the best sequential algorithm.  For instance, in matrix solution, we can select from Jacobi relaxation or Gauss–Seidel relaxation.  <a href="https://en.wikipedia.org/wiki/Jacobi_method">Jacobi relaxation</a> is a naïve algorithm to solve a matrix equation iteratively by inverting only the diagonal elements and modifying an initial guess progressively until a solution within certain tolerances is found.  <a href="https://en.wikipedia.org/wiki/Gauss%E2%80%93Seidel_method">Gauss–Seidel relaxation</a> is formally a better algorithm, since it also takes advantage of updated data points from <em>the current iteration</em> to improve the subsequent data points in-flight as well.  However, Jacobi relaxation, relying exclusively on a prior iteration, can be sensibly implemented in parallel while Gauss–Seidel iteration can not.</p>
<p><strong>Prefix Summation</strong></p>
<p>Consider also summing vector elements of $A$ such that each resulting element $B_i$ is the sum over all elements prior to index $i$:
$$\begin{eqnarray} B_{0} = & A_{0} \\ B_i = & \sum_{j = 1}^i A_j \text{.} \end{eqnarray}$$</p>
<p>In serial, this algorithm requires $N = P$ stages.  In parallel, this can be accomplished with a <em>scan</em> operation in $\log P$ stages.  (<a href="https://en.wikipedia.org/wiki/Prefix_sum">ref1</a>) (<a href="http://http.developer.nvidia.com/GPUGems3/gpugems3_ch39.html">ref2</a>)</p>
<table>
<tr>
<td><h3>Serial Version</h3> <img src="./img/prefix-serial.png"/></td>
<td><h3>Parallel Version</h3> <img src="./img/prefix-parallel.png"/></td>
</tr>
</table><p><strong>Basic Process</strong></p>
<ul>
<li>Determine algorithms</li>
<li>Decide on decomposition of computation into work and data units</li>
<li>Decide on assignment of these units to processors</li>
<li>Express decisions in language available for the machine</li>
</ul>
<p><strong>Tips</strong></p>
<ul>
<li>Architect a new parallel top-level structure rather than parallelizing a sequential program</li>
<li>Insert existing sequential code where appropriate</li>
<li>Refactor a portion of the sequential code into a parallel structure</li>
<li>Rewrite the remainder</li>
<li>Express algorithms in terms of $N$ and $P$.</li>
<li>Visualize data flow, not control flow, to reveal dependencies.</li>
</ul>

</div>
</div>
</div>
<div class="cell border-box-sizing text_cell rendered">
<div class="prompt input_prompt">
</div>
<div class="inner_cell">
<div class="text_cell_render border-box-sizing rendered_html">
<hr>
<p><a id='conc'></a></p>
<h2 id="Conclusion">Conclusion<a class="anchor-link" href="#Conclusion">&#182;</a></h2><p>There's a lot more to OpenMP than what we could cover in this brief introduction.  Here are a few resources to learn more about OpenMP and its applications.</p>
<ul>
<li>Open MP 4.0 (<a href="http://www.openmp.org/mp-documents/OpenMP4.0.0.pdf">standard</a>) (<a href="http://openmp.org/mp-documents/OpenMP_Examples_4.0.1.pdf">examples</a>)</li>
<li>Lawrence Livermore National Laboratory <a href="https://computing.llnl.gov/tutorials/openMP/">tutorial</a></li>
<li>Archer Advanced OpenMP (<a href="http://www.archer.ac.uk/training/course-material/2014/05/AdvancedOpenMP_Oxford/">workshop</a>)</li>
<li><a href="http://www.codeguru.com/cpp/cpp/cpp_mfc/general/article.php/c15419/32-OpenMP-Traps-for-C-Developers.htm">32 Traps for OpenMP Developers</a> (dated now but still good basic troubleshooting)</li>
</ul>

</div>
</div>
</div>
<div class="cell border-box-sizing text_cell rendered">
<div class="prompt input_prompt">
</div>
<div class="inner_cell">
<div class="text_cell_render border-box-sizing rendered_html">
<hr>
<p><a id='refs'></a></p>
<h2 id="References">References<a class="anchor-link" href="#References">&#182;</a></h2><ul>
<li><a href="http://www.citutor.org/login.php">NCSA CI-Tutor</a>.</li>
<li><a href="https://computing.llnl.gov/tutorials/openMP/">LLNL tutorial</a></li>
<li><a href="http://www.cs.uiuc.edu/class/sp06/cs232/section/disc7.pdf">UIUC CS Introduction to OpenMP</a></li>
<li><a href="http://www.slideserve.com/MikeCarlo/parallel-programming-in-c-with-mpi-and-openmp-">OpenMP with MPI</a></li>
<li><a href="https://mitpress.mit.edu/books/using-openmp">Using OpenMP</a> (book)</li>
<li><a href="http://bisqwit.iki.fi/story/howto/openmp/">Guide Into Using OpenMP</a></li>
<li><a href="http://www.dalkescientific.com/writings/diary/archive/2012/01/16/my_views_on_openmp.html">Thoughts on OpenMP in Scientific Computing</a></li>
<li><a href="http://openmp.org/mp-documents/OpenMP_Examples_4.0.1.pdf">Official OpenMP Code Examples</a></li>
</ul>

</div>
</div>
</div>
<div class="cell border-box-sizing text_cell rendered">
<div class="prompt input_prompt">
</div>
<div class="inner_cell">
<div class="text_cell_render border-box-sizing rendered_html">
<hr>
<p><a id='credits'></a></p>
<h2 id="Credits">Credits<a class="anchor-link" href="#Credits">&#182;</a></h2><p>Neal Davis developed these materials for <a href="http://cse.illinois.edu/">Computational Science and Engineering</a> at the University of Illinois at Urbana–Champaign.</p>
<p><img src="http://i.creativecommons.org/l/by/4.0/88x31.png" align="left">
This content is available under a <a href="https://creativecommons.org/licenses/by/4.0/">Creative Commons Attribution 4.0 Unported License</a>.</p>
<p><a href="http://cse.illinois.edu/"><img src="https://bytebucket.org/davis68/resources/raw/f7c98d2b95e961fae257707e22a58fa1a2c36bec/logos/baseline_cse_wdmk.png?token=be4cc41d4b2afe594f5b1570a3c5aad96a65f0d6" alt=""></a></p>

</div>
</div>
</div>
<div class="cell border-box-sizing text_cell rendered">
<div class="prompt input_prompt">
</div>
<div class="inner_cell">
<div class="text_cell_render border-box-sizing rendered_html">
<hr>
<h2 id="Code-Snippets-for-Teaching">Code Snippets for Teaching<a class="anchor-link" href="#Code-Snippets-for-Teaching">&#182;</a></h2>
</div>
</div>
</div>
<div class="cell border-box-sizing code_cell rendered">
<div class="input">
<div class="prompt input_prompt">In&nbsp;[&nbsp;]:</div>
<div class="inner_cell">
    <div class="input_area">
<div class=" highlight hl-ipython3"><pre><span></span><span class="kn">import</span> <span class="nn">numpy</span> <span class="k">as</span> <span class="nn">np</span>
<span class="kn">from</span> <span class="nn">numpy</span> <span class="k">import</span> <span class="n">pi</span><span class="p">,</span> <span class="n">cos</span><span class="p">,</span> <span class="n">linspace</span>
<span class="kn">import</span> <span class="nn">matplotlib</span> <span class="k">as</span> <span class="nn">mpl</span>
<span class="kn">import</span> <span class="nn">matplotlib.pyplot</span> <span class="k">as</span> <span class="nn">plt</span>
<span class="o">%</span><span class="k">matplotlib</span> inline
<span class="n">mpl</span><span class="o">.</span><span class="n">rcParams</span><span class="p">[</span><span class="s1">&#39;figure.figsize&#39;</span><span class="p">]</span><span class="o">=</span><span class="p">[</span><span class="mi">18</span><span class="p">,</span><span class="mi">3</span><span class="p">]</span>
<span class="n">x</span> <span class="o">=</span> <span class="n">linspace</span><span class="p">(</span><span class="n">pi</span><span class="o">-</span><span class="mf">0.05</span><span class="p">,</span> <span class="mf">2.5</span><span class="o">*</span><span class="n">pi</span><span class="o">+</span><span class="mf">0.02</span><span class="p">,</span> <span class="mi">1001</span><span class="p">)</span>
<span class="n">f</span> <span class="o">=</span> <span class="n">cos</span><span class="p">(</span><span class="n">x</span><span class="p">)</span><span class="o">/</span><span class="p">(</span><span class="mi">2</span><span class="o">+</span><span class="n">cos</span><span class="p">(</span><span class="n">x</span><span class="p">))</span>
<span class="n">f</span><span class="p">[</span><span class="mi">0</span><span class="p">]</span> <span class="o">=</span> <span class="n">f</span><span class="p">[</span><span class="o">-</span><span class="mi">1</span><span class="p">]</span> <span class="o">=</span> <span class="mi">0</span>
<span class="n">fig</span> <span class="o">=</span> <span class="n">plt</span><span class="o">.</span><span class="n">figure</span><span class="p">()</span>
<span class="n">ax</span> <span class="o">=</span> <span class="n">fig</span><span class="o">.</span><span class="n">add_subplot</span><span class="p">(</span><span class="mi">111</span><span class="p">)</span>
<span class="n">ax</span><span class="o">.</span><span class="n">fill</span><span class="p">(</span><span class="n">x</span><span class="p">,</span> <span class="n">f</span><span class="p">,</span> <span class="n">color</span><span class="o">=</span><span class="s1">&#39;cornflowerblue&#39;</span><span class="p">)</span>
<span class="n">ax</span><span class="o">.</span><span class="n">set_xlim</span><span class="p">(</span><span class="n">pi</span><span class="p">,</span> <span class="mf">2.5</span><span class="o">*</span><span class="n">pi</span><span class="p">)</span>
<span class="n">ax</span><span class="o">.</span><span class="n">set_ylim</span><span class="p">(</span><span class="o">-</span><span class="mf">1.0</span><span class="p">,</span> <span class="mf">1.0</span><span class="p">)</span>
<span class="n">unit</span>   <span class="o">=</span> <span class="mf">0.5</span>
<span class="n">x_tick</span> <span class="o">=</span> <span class="n">np</span><span class="o">.</span><span class="n">arange</span><span class="p">(</span><span class="mi">1</span><span class="p">,</span> <span class="mf">2.5</span><span class="o">+</span><span class="n">unit</span><span class="p">,</span> <span class="n">unit</span><span class="p">)</span>
<span class="n">x_label</span><span class="o">=</span> <span class="p">[</span><span class="s2">r&quot;$\pi$&quot;</span><span class="p">,</span> <span class="s2">r&quot;$\frac{3\pi}</span><span class="si">{2}</span><span class="s2">$&quot;</span><span class="p">,</span> <span class="s2">r&quot;$2\pi$&quot;</span><span class="p">,</span> <span class="s2">r&quot;$\frac{5\pi}</span><span class="si">{2}</span><span class="s2">$&quot;</span><span class="p">]</span>
<span class="n">ax</span><span class="o">.</span><span class="n">set_xticks</span><span class="p">(</span><span class="n">x_tick</span><span class="o">*</span><span class="n">np</span><span class="o">.</span><span class="n">pi</span><span class="p">)</span>
<span class="n">ax</span><span class="o">.</span><span class="n">set_xticklabels</span><span class="p">(</span><span class="n">x_label</span><span class="p">,</span> <span class="n">fontsize</span><span class="o">=</span><span class="mi">16</span><span class="p">)</span>
<span class="n">plt</span><span class="o">.</span><span class="n">show</span><span class="p">()</span>
</pre></div>

</div>
</div>
</div>

</div>
<div class="cell border-box-sizing code_cell rendered">
<div class="input">
<div class="prompt input_prompt">In&nbsp;[&nbsp;]:</div>
<div class="inner_cell">
    <div class="input_area">
<div class=" highlight hl-ipython3"><pre><span></span><span class="n">x</span> <span class="o">=</span> <span class="n">linspace</span><span class="p">(</span><span class="mi">0</span><span class="p">,</span> <span class="mf">2.02</span><span class="p">,</span> <span class="mi">1001</span><span class="p">)</span>
<span class="n">f</span> <span class="o">=</span> <span class="n">np</span><span class="o">.</span><span class="n">sinh</span><span class="p">(</span><span class="n">x</span><span class="p">)</span> <span class="o">/</span> <span class="n">np</span><span class="o">.</span><span class="n">cosh</span><span class="p">(</span><span class="n">x</span><span class="p">)</span> <span class="o">-</span> <span class="mf">1.0</span>
<span class="n">f</span><span class="p">[</span><span class="mi">0</span><span class="p">]</span> <span class="o">=</span> <span class="n">f</span><span class="p">[</span><span class="o">-</span><span class="mi">1</span><span class="p">]</span> <span class="o">=</span> <span class="mi">0</span>
<span class="n">fig</span> <span class="o">=</span> <span class="n">plt</span><span class="o">.</span><span class="n">figure</span><span class="p">()</span>
<span class="n">ax</span> <span class="o">=</span> <span class="n">fig</span><span class="o">.</span><span class="n">add_subplot</span><span class="p">(</span><span class="mi">111</span><span class="p">)</span>
<span class="n">ax</span><span class="o">.</span><span class="n">fill</span><span class="p">(</span><span class="n">x</span><span class="p">,</span> <span class="n">f</span><span class="p">,</span> <span class="n">color</span><span class="o">=</span><span class="s1">&#39;maroon&#39;</span><span class="p">)</span>
<span class="n">ax</span><span class="o">.</span><span class="n">set_xlim</span><span class="p">(</span><span class="mf">0.0</span><span class="p">,</span> <span class="mf">2.0</span><span class="p">)</span>
<span class="n">ax</span><span class="o">.</span><span class="n">set_ylim</span><span class="p">(</span><span class="o">-</span><span class="mf">1.2</span><span class="p">,</span><span class="mf">0.2</span><span class="p">)</span>
<span class="n">plt</span><span class="o">.</span><span class="n">show</span><span class="p">()</span>
</pre></div>

</div>
</div>
</div>

</div>
<div class="cell border-box-sizing code_cell rendered">
<div class="input">
<div class="prompt input_prompt">In&nbsp;[&nbsp;]:</div>
<div class="inner_cell">
    <div class="input_area">
<div class=" highlight hl-ipython3"><pre><span></span><span class="o">%%</span><span class="k">file</span> reduce-complex.cpp
#include &lt;complex&gt;
#include &lt;iostream&gt;
#include &lt;cstdlib&gt;
#include &lt;omp.h&gt;

int main(int argc, char** argv) {
    #pragma omp declare reduction (+ : std::complex&lt;double&gt; : omp_out += omp_in)
    int N = 10;
    if (argc &gt; 1) N = atoi(argv[1]);
    std::complex&lt;double&gt; val;
    
    #pragma omp parallel for reduction(+ : val) schedule(dynamic,1)
    for (int j = 0; j &lt; N; j++) {
        std::complex&lt;double&gt; my_val = std::complex&lt;double&gt;(2.0,2.0);
        val += my_val;
    }
    std::cout &lt;&lt; &quot;Using &quot; &lt;&lt; omp_get_max_threads() &lt;&lt; &quot; threads, the summed complex value is &quot; &lt;&lt; val.real() &lt;&lt; &quot;+&quot; &lt;&lt; val.imag() &lt;&lt; &quot;i.\n&quot;;
}
</pre></div>

</div>
</div>
</div>

</div>
    </div>
  </div>

  </div>


  
    <footer class="footer hidden-print">
      <div class="container">
        <div class="col-md-4">
          <p>
            This website does not host notebooks, it only renders notebooks
            available on other websites.
          </p>
        </div>

        <div class="col-md-4">
          <p>
            Delivered by <a href="http://www.fastly.com/">Fastly</a>,
            Rendered by <a href="https://developer.rackspace.com/?nbviewer=awesome">Rackspace</a>
          </p>
          <p>
            nbviewer GitHub <a href="https://github.com/jupyter/nbviewer">repository</a>.
          </p>
        </div>

        <div class="col-md-4">
          
  
            
              <p>
                nbviewer version:
                <a href="https://github.com/jupyter/nbviewer/commit/41cd82f09350776a356420a4f7dedcaf52410650">
                  41cd82f
                </a>
              </p>
            
          
  
  <p>
    notebook version: <a href="https://github.com/jupyter/notebook/releases/tag/">
      
    </a>
  </p>
  <p>
    nbconvert version: <a href="https://github.com/jupyter/nbconvert/releases/tag/4.1.0">
      4.1.0
    </a>
  </p>
  

          
  
  
  <p>
    Rendered
    <span class='date' data-date='Fri, 11 Mar 2016 15:54:09 UTC' title='Fri, 11 Mar 2016 15:54:09 UTC'>(Fri, 11 Mar 2016 15:54:09 UTC)</span>
  </p>
  

        </div>
      </div>
    </footer>
  

  <script src="/static/components/bootstrap/js/bootstrap.min.js"></script>
  <script src="/static/components/headroom.js/dist/headroom.min.js"></script>
  <script src="/static/components/headroom.js/dist/jQuery.headroom.min.js"></script>

  
  
  <script>
    $(function(){ $("#menubar").headroom({
      tolerance: 5,
      offset: 205,
      classes: {
        initial: "animated",
        pinned: "slideInDown",
        unpinned: "slideOutUp"
      }
    })});
  </script>


  <script>
    (function(i,s,o,g,r,a,m){i['GoogleAnalyticsObject']=r;i[r]=i[r]||function(){
      (i[r].q=i[r].q||[]).push(arguments)},i[r].l=1*new Date();a=s.createElement(o),
      m=s.getElementsByTagName(o)[0];a.async=1;a.src=g;m.parentNode.insertBefore(a,m)
    })(window,document,'script','//www.google-analytics.com/analytics.js','ga');
    ga('create', 'UA-38683231-2', 'auto');
    ga('send', 'pageview');
  </script>
  <script>
    require({
        paths: {
          moment: "/static/components/moment/min/moment.min.js"
        }
      }, ["moment"], function(moment){
      var date = $("footer .date"),
        m = moment(new Date(date.data('date'))),
        update = function(){ date.text(m.fromNow()); };
      setInterval(update, 61*1000);
      update();
      var w = $(window).scroll(function(event){
        $("body").toggleClass("scrolled", w.scrollTop() > 0);
      });
    });
  </script>
  <!--NEW RELIC Stop Perf Measurement-->
  
  <!--NEW RELIC End-->
</body>
</html>